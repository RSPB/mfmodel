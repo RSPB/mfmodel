{
 "cells": [
  {
   "cell_type": "markdown",
   "metadata": {},
   "source": [
    "# The Very Best Model\n",
    "### Combined warbler acoustic parameters and audio descriptors on gradient boosted trees"
   ]
  },
  {
   "cell_type": "code",
   "execution_count": 1,
   "metadata": {},
   "outputs": [],
   "source": [
    "import sklearn\n",
    "import numpy as np\n",
    "import pandas as pd\n",
    "import xgboost as xg\n",
    "import seaborn as sns\n",
    "# import matplotlib\n",
    "# matplotlib.use('Agg')\n",
    "import matplotlib.pyplot as plt\n",
    "\n",
    "from sklearn import metrics\n",
    "from sklearn.model_selection import train_test_split\n",
    "\n",
    "%matplotlib inline  "
   ]
  },
  {
   "cell_type": "markdown",
   "metadata": {},
   "source": [
    "Load both data sets"
   ]
  },
  {
   "cell_type": "code",
   "execution_count": 2,
   "metadata": {},
   "outputs": [],
   "source": [
    "descriptors_path = '/home/tracek/Data/gender/gender_descriptors.csv'\n",
    "warbler_path = '/home/tracek/Data/gender/gender_warbler.csv'\n",
    "seed = 42\n",
    "\n",
    "params = {'max_depth': 4,\n",
    "          'n_estimators': 1000,\n",
    "          'objective': 'binary:logistic',\n",
    "          'eval_metric': ['auc', 'error'],\n",
    "          'gamma': 0.1}\n",
    "\n",
    "test_fraction = 0.1\n",
    "val_fraction = 0.2"
   ]
  },
  {
   "cell_type": "markdown",
   "metadata": {},
   "source": [
    "Concatenate the two. Since they were produced on identical data sets and nothing is missing, we can simply sort data by filename and concatenate horizontally - no joins required."
   ]
  },
  {
   "cell_type": "code",
   "execution_count": 3,
   "metadata": {
    "scrolled": true
   },
   "outputs": [],
   "source": [
    "warbler_df = pd.read_csv(warbler_path).sort_values('filename').drop(['filename', 'centroid', 'dfrange'], axis=1)\n",
    "descriptors_df = pd.read_csv(descriptors_path).sort_values('filename').drop(['filename', 'label'], axis=1)\n",
    "data = pd.concat([warbler_df, descriptors_df], axis=1)\n",
    "y = data.pop('label')"
   ]
  },
  {
   "cell_type": "markdown",
   "metadata": {},
   "source": [
    "### Train - Validation (Development) - Test split\n",
    "I divide my data into three sets to prevent information leakage when tuning any hyperparameters."
   ]
  },
  {
   "cell_type": "code",
   "execution_count": 4,
   "metadata": {},
   "outputs": [],
   "source": [
    "if test_fraction > 0.0:\n",
    "    X_train, X_test, y_train, y_test = train_test_split(data, y, test_size=test_fraction, random_state=seed, stratify=y)\n",
    "    X_train, X_val, y_train, y_val = train_test_split(X_train, y_train, test_size=val_fraction, random_state=seed, stratify=y_train)\n",
    "    dtest = xg.DMatrix(X_test, label=y_test)\n",
    "else:\n",
    "    X_train, X_val, y_train, y_val = train_test_split(data, y, test_size=val_fraction, random_state=seed, stratify=y)"
   ]
  },
  {
   "cell_type": "markdown",
   "metadata": {},
   "source": [
    "## Train! "
   ]
  },
  {
   "cell_type": "code",
   "execution_count": 5,
   "metadata": {
    "scrolled": false
   },
   "outputs": [
    {
     "name": "stdout",
     "output_type": "stream",
     "text": [
      "[0]\teval-auc:0.980711\teval-error:0.036509\ttrain-auc:0.980117\ttrain-error:0.036703\n",
      "Multiple eval metrics have been passed: 'train-error' will be used for early stopping.\n",
      "\n",
      "Will train until train-error hasn't improved in 5 rounds.\n",
      "[1]\teval-auc:0.984556\teval-error:0.032722\ttrain-auc:0.984372\ttrain-error:0.032709\n",
      "[2]\teval-auc:0.987556\teval-error:0.030888\ttrain-auc:0.987744\ttrain-error:0.032398\n",
      "[3]\teval-auc:0.990196\teval-error:0.030828\ttrain-auc:0.990248\ttrain-error:0.031688\n",
      "[4]\teval-auc:0.990836\teval-error:0.030651\ttrain-auc:0.990785\ttrain-error:0.030963\n",
      "[5]\teval-auc:0.991828\teval-error:0.028994\ttrain-auc:0.991743\ttrain-error:0.028788\n",
      "[6]\teval-auc:0.992379\teval-error:0.028935\ttrain-auc:0.992531\ttrain-error:0.02901\n",
      "[7]\teval-auc:0.992718\teval-error:0.027337\ttrain-auc:0.992857\ttrain-error:0.027279\n",
      "[8]\teval-auc:0.993862\teval-error:0.026627\ttrain-auc:0.993813\ttrain-error:0.026584\n",
      "[9]\teval-auc:0.994133\teval-error:0.025917\ttrain-auc:0.994226\ttrain-error:0.025223\n",
      "[10]\teval-auc:0.994682\teval-error:0.025207\ttrain-auc:0.994705\ttrain-error:0.024439\n",
      "[11]\teval-auc:0.995034\teval-error:0.023669\ttrain-auc:0.995089\ttrain-error:0.023285\n",
      "[12]\teval-auc:0.995431\teval-error:0.023432\ttrain-auc:0.995466\ttrain-error:0.022619\n",
      "[13]\teval-auc:0.995508\teval-error:0.023195\ttrain-auc:0.995582\ttrain-error:0.022205\n",
      "[14]\teval-auc:0.995993\teval-error:0.022899\ttrain-auc:0.996098\ttrain-error:0.020948\n",
      "[15]\teval-auc:0.996243\teval-error:0.021657\ttrain-auc:0.996428\ttrain-error:0.020193\n",
      "[16]\teval-auc:0.996455\teval-error:0.021124\ttrain-auc:0.996694\ttrain-error:0.019261\n",
      "[17]\teval-auc:0.996648\teval-error:0.019941\ttrain-auc:0.996913\ttrain-error:0.018403\n",
      "[18]\teval-auc:0.996933\teval-error:0.019112\ttrain-auc:0.997199\ttrain-error:0.017575\n",
      "[19]\teval-auc:0.99709\teval-error:0.019172\ttrain-auc:0.997386\ttrain-error:0.017412\n",
      "[20]\teval-auc:0.997288\teval-error:0.018284\ttrain-auc:0.997542\ttrain-error:0.016569\n",
      "[21]\teval-auc:0.997366\teval-error:0.01787\ttrain-auc:0.997697\ttrain-error:0.016406\n",
      "[22]\teval-auc:0.997537\teval-error:0.017337\ttrain-auc:0.997848\ttrain-error:0.015666\n",
      "[23]\teval-auc:0.997674\teval-error:0.016686\ttrain-auc:0.99792\ttrain-error:0.015149\n",
      "[24]\teval-auc:0.997737\teval-error:0.016272\ttrain-auc:0.998002\ttrain-error:0.014779\n",
      "[25]\teval-auc:0.997835\teval-error:0.016154\ttrain-auc:0.998099\ttrain-error:0.014439\n",
      "[26]\teval-auc:0.997892\teval-error:0.015858\ttrain-auc:0.998164\ttrain-error:0.014113\n",
      "[27]\teval-auc:0.997985\teval-error:0.015562\ttrain-auc:0.998259\ttrain-error:0.013728\n",
      "[28]\teval-auc:0.998082\teval-error:0.015089\ttrain-auc:0.998355\ttrain-error:0.013107\n",
      "[29]\teval-auc:0.998139\teval-error:0.014852\ttrain-auc:0.998421\ttrain-error:0.012944\n",
      "[30]\teval-auc:0.998192\teval-error:0.014734\ttrain-auc:0.998501\ttrain-error:0.012678\n",
      "[31]\teval-auc:0.998222\teval-error:0.014734\ttrain-auc:0.998534\ttrain-error:0.012441\n",
      "[32]\teval-auc:0.998272\teval-error:0.01432\ttrain-auc:0.998583\ttrain-error:0.012367\n",
      "[33]\teval-auc:0.998328\teval-error:0.014024\ttrain-auc:0.99864\ttrain-error:0.012131\n",
      "[34]\teval-auc:0.99834\teval-error:0.013787\ttrain-auc:0.998676\ttrain-error:0.012042\n",
      "[35]\teval-auc:0.998384\teval-error:0.013905\ttrain-auc:0.998723\ttrain-error:0.011805\n",
      "[36]\teval-auc:0.998442\teval-error:0.013846\ttrain-auc:0.99878\ttrain-error:0.011643\n",
      "[37]\teval-auc:0.9985\teval-error:0.013432\ttrain-auc:0.998842\ttrain-error:0.011391\n",
      "[38]\teval-auc:0.998558\teval-error:0.013314\ttrain-auc:0.998892\ttrain-error:0.010918\n",
      "[39]\teval-auc:0.998596\teval-error:0.013314\ttrain-auc:0.998925\ttrain-error:0.010444\n",
      "[40]\teval-auc:0.998637\teval-error:0.013018\ttrain-auc:0.998972\ttrain-error:0.010119\n",
      "[41]\teval-auc:0.998668\teval-error:0.012722\ttrain-auc:0.998989\ttrain-error:0.010015\n",
      "[42]\teval-auc:0.998698\teval-error:0.012544\ttrain-auc:0.999017\ttrain-error:0.01\n",
      "[43]\teval-auc:0.99873\teval-error:0.012426\ttrain-auc:0.999076\ttrain-error:0.009557\n",
      "[44]\teval-auc:0.998759\teval-error:0.012308\ttrain-auc:0.999115\ttrain-error:0.009616\n",
      "[45]\teval-auc:0.998781\teval-error:0.012249\ttrain-auc:0.999142\ttrain-error:0.00935\n",
      "[46]\teval-auc:0.99879\teval-error:0.012012\ttrain-auc:0.999156\ttrain-error:0.009246\n",
      "[47]\teval-auc:0.99882\teval-error:0.011775\ttrain-auc:0.999182\ttrain-error:0.009083\n",
      "[48]\teval-auc:0.998842\teval-error:0.011716\ttrain-auc:0.999197\ttrain-error:0.009009\n",
      "[49]\teval-auc:0.998894\teval-error:0.011243\ttrain-auc:0.999227\ttrain-error:0.008891\n",
      "[50]\teval-auc:0.998915\teval-error:0.011183\ttrain-auc:0.999241\ttrain-error:0.008684\n",
      "[51]\teval-auc:0.998935\teval-error:0.011183\ttrain-auc:0.999265\ttrain-error:0.00858\n",
      "[52]\teval-auc:0.998959\teval-error:0.011243\ttrain-auc:0.999309\ttrain-error:0.008403\n",
      "[53]\teval-auc:0.998971\teval-error:0.011243\ttrain-auc:0.999346\ttrain-error:0.008418\n",
      "[54]\teval-auc:0.998987\teval-error:0.011124\ttrain-auc:0.999362\ttrain-error:0.008255\n",
      "[55]\teval-auc:0.998999\teval-error:0.011124\ttrain-auc:0.999391\ttrain-error:0.008151\n",
      "[56]\teval-auc:0.999006\teval-error:0.010888\ttrain-auc:0.999409\ttrain-error:0.008018\n",
      "[57]\teval-auc:0.99903\teval-error:0.011006\ttrain-auc:0.999424\ttrain-error:0.007767\n",
      "[58]\teval-auc:0.999035\teval-error:0.010828\ttrain-auc:0.999449\ttrain-error:0.007722\n",
      "[59]\teval-auc:0.99906\teval-error:0.010592\ttrain-auc:0.999478\ttrain-error:0.007308\n",
      "[60]\teval-auc:0.999076\teval-error:0.010355\ttrain-auc:0.999488\ttrain-error:0.007293\n",
      "[61]\teval-auc:0.999111\teval-error:0.010237\ttrain-auc:0.999507\ttrain-error:0.007145\n",
      "[62]\teval-auc:0.999124\teval-error:0.01\ttrain-auc:0.999519\ttrain-error:0.007057\n",
      "[63]\teval-auc:0.999128\teval-error:0.010059\ttrain-auc:0.999532\ttrain-error:0.006968\n",
      "[64]\teval-auc:0.999142\teval-error:0.010059\ttrain-auc:0.999543\ttrain-error:0.006849\n",
      "[65]\teval-auc:0.999159\teval-error:0.009704\ttrain-auc:0.999553\ttrain-error:0.006775\n",
      "[66]\teval-auc:0.999166\teval-error:0.009645\ttrain-auc:0.999563\ttrain-error:0.006716\n",
      "[67]\teval-auc:0.999184\teval-error:0.009349\ttrain-auc:0.999577\ttrain-error:0.006539\n",
      "[68]\teval-auc:0.999184\teval-error:0.009645\ttrain-auc:0.999589\ttrain-error:0.006524\n",
      "[69]\teval-auc:0.999189\teval-error:0.009645\ttrain-auc:0.999603\ttrain-error:0.006539\n",
      "[70]\teval-auc:0.999211\teval-error:0.009527\ttrain-auc:0.999621\ttrain-error:0.00642\n",
      "[71]\teval-auc:0.999229\teval-error:0.009349\ttrain-auc:0.999629\ttrain-error:0.006376\n",
      "[72]\teval-auc:0.999238\teval-error:0.009349\ttrain-auc:0.999634\ttrain-error:0.006302\n",
      "[73]\teval-auc:0.999243\teval-error:0.009467\ttrain-auc:0.999641\ttrain-error:0.00611\n",
      "[74]\teval-auc:0.999253\teval-error:0.009231\ttrain-auc:0.999646\ttrain-error:0.006065\n",
      "[75]\teval-auc:0.999256\teval-error:0.00929\ttrain-auc:0.999651\ttrain-error:0.006006\n",
      "[76]\teval-auc:0.999265\teval-error:0.009172\ttrain-auc:0.999662\ttrain-error:0.005917\n",
      "[77]\teval-auc:0.999269\teval-error:0.009053\ttrain-auc:0.99967\ttrain-error:0.006006\n",
      "[78]\teval-auc:0.999273\teval-error:0.008935\ttrain-auc:0.999675\ttrain-error:0.005977\n",
      "[79]\teval-auc:0.999277\teval-error:0.008935\ttrain-auc:0.999682\ttrain-error:0.005843\n",
      "[80]\teval-auc:0.999285\teval-error:0.008876\ttrain-auc:0.999692\ttrain-error:0.005769\n",
      "[81]\teval-auc:0.999286\teval-error:0.008639\ttrain-auc:0.999698\ttrain-error:0.00574\n",
      "[82]\teval-auc:0.999283\teval-error:0.008698\ttrain-auc:0.999703\ttrain-error:0.005636\n",
      "[83]\teval-auc:0.99929\teval-error:0.008817\ttrain-auc:0.999713\ttrain-error:0.005429\n",
      "[84]\teval-auc:0.999308\teval-error:0.008698\ttrain-auc:0.999717\ttrain-error:0.005326\n",
      "[85]\teval-auc:0.99931\teval-error:0.008698\ttrain-auc:0.99972\ttrain-error:0.00534\n",
      "[86]\teval-auc:0.999322\teval-error:0.00858\ttrain-auc:0.999728\ttrain-error:0.005326\n",
      "[87]\teval-auc:0.999324\teval-error:0.00858\ttrain-auc:0.999733\ttrain-error:0.005296\n",
      "[88]\teval-auc:0.999331\teval-error:0.008639\ttrain-auc:0.999741\ttrain-error:0.005163\n",
      "[89]\teval-auc:0.999332\teval-error:0.008402\ttrain-auc:0.999749\ttrain-error:0.005089\n",
      "[90]\teval-auc:0.999343\teval-error:0.008284\ttrain-auc:0.999759\ttrain-error:0.005089\n",
      "[91]\teval-auc:0.999347\teval-error:0.008107\ttrain-auc:0.999764\ttrain-error:0.005059\n",
      "[92]\teval-auc:0.999347\teval-error:0.008107\ttrain-auc:0.999767\ttrain-error:0.004956\n",
      "[93]\teval-auc:0.999356\teval-error:0.008166\ttrain-auc:0.999773\ttrain-error:0.004926\n",
      "[94]\teval-auc:0.999364\teval-error:0.008107\ttrain-auc:0.999779\ttrain-error:0.004882\n",
      "[95]\teval-auc:0.999367\teval-error:0.008047\ttrain-auc:0.999786\ttrain-error:0.004749\n",
      "[96]\teval-auc:0.999374\teval-error:0.00787\ttrain-auc:0.999792\ttrain-error:0.00466\n",
      "[97]\teval-auc:0.999383\teval-error:0.007811\ttrain-auc:0.999796\ttrain-error:0.004616\n"
     ]
    },
    {
     "name": "stdout",
     "output_type": "stream",
     "text": [
      "[98]\teval-auc:0.999389\teval-error:0.007811\ttrain-auc:0.9998\ttrain-error:0.004571\n",
      "[99]\teval-auc:0.999388\teval-error:0.007811\ttrain-auc:0.999801\ttrain-error:0.004527\n",
      "[100]\teval-auc:0.999401\teval-error:0.007811\ttrain-auc:0.999808\ttrain-error:0.004335\n",
      "[101]\teval-auc:0.99939\teval-error:0.007751\ttrain-auc:0.999815\ttrain-error:0.004379\n",
      "[102]\teval-auc:0.999393\teval-error:0.007811\ttrain-auc:0.99982\ttrain-error:0.004246\n",
      "[103]\teval-auc:0.999402\teval-error:0.007929\ttrain-auc:0.999825\ttrain-error:0.004157\n",
      "[104]\teval-auc:0.999412\teval-error:0.007929\ttrain-auc:0.99983\ttrain-error:0.004068\n",
      "[105]\teval-auc:0.999424\teval-error:0.007811\ttrain-auc:0.999837\ttrain-error:0.004024\n",
      "[106]\teval-auc:0.999426\teval-error:0.007811\ttrain-auc:0.999842\ttrain-error:0.003905\n",
      "[107]\teval-auc:0.99943\teval-error:0.007929\ttrain-auc:0.999846\ttrain-error:0.003802\n",
      "[108]\teval-auc:0.999436\teval-error:0.008047\ttrain-auc:0.999851\ttrain-error:0.003772\n",
      "[109]\teval-auc:0.999433\teval-error:0.007988\ttrain-auc:0.999853\ttrain-error:0.003772\n",
      "[110]\teval-auc:0.99943\teval-error:0.007811\ttrain-auc:0.999856\ttrain-error:0.003624\n",
      "[111]\teval-auc:0.999432\teval-error:0.007692\ttrain-auc:0.999859\ttrain-error:0.00361\n",
      "[112]\teval-auc:0.999435\teval-error:0.007574\ttrain-auc:0.99986\ttrain-error:0.003565\n",
      "[113]\teval-auc:0.999438\teval-error:0.007633\ttrain-auc:0.999862\ttrain-error:0.00355\n",
      "[114]\teval-auc:0.999439\teval-error:0.007574\ttrain-auc:0.999864\ttrain-error:0.003476\n",
      "[115]\teval-auc:0.999439\teval-error:0.007574\ttrain-auc:0.999866\ttrain-error:0.003432\n",
      "[116]\teval-auc:0.999441\teval-error:0.007692\ttrain-auc:0.999867\ttrain-error:0.003432\n",
      "[117]\teval-auc:0.999442\teval-error:0.007751\ttrain-auc:0.999869\ttrain-error:0.003388\n",
      "[118]\teval-auc:0.999451\teval-error:0.007574\ttrain-auc:0.999874\ttrain-error:0.003343\n",
      "[119]\teval-auc:0.99945\teval-error:0.007633\ttrain-auc:0.999877\ttrain-error:0.003299\n",
      "[120]\teval-auc:0.999455\teval-error:0.007574\ttrain-auc:0.999881\ttrain-error:0.003284\n",
      "[121]\teval-auc:0.999458\teval-error:0.007337\ttrain-auc:0.999885\ttrain-error:0.003181\n",
      "[122]\teval-auc:0.999464\teval-error:0.007278\ttrain-auc:0.999887\ttrain-error:0.003136\n",
      "[123]\teval-auc:0.999466\teval-error:0.007396\ttrain-auc:0.999891\ttrain-error:0.003166\n",
      "[124]\teval-auc:0.999466\teval-error:0.007574\ttrain-auc:0.999893\ttrain-error:0.003151\n",
      "[125]\teval-auc:0.999471\teval-error:0.007396\ttrain-auc:0.999896\ttrain-error:0.003107\n",
      "[126]\teval-auc:0.999475\teval-error:0.007396\ttrain-auc:0.999901\ttrain-error:0.002974\n",
      "[127]\teval-auc:0.99948\teval-error:0.007515\ttrain-auc:0.999904\ttrain-error:0.0029\n",
      "[128]\teval-auc:0.999485\teval-error:0.007515\ttrain-auc:0.999906\ttrain-error:0.002811\n",
      "[129]\teval-auc:0.999484\teval-error:0.007633\ttrain-auc:0.999906\ttrain-error:0.0029\n",
      "[130]\teval-auc:0.999484\teval-error:0.007633\ttrain-auc:0.999909\ttrain-error:0.00287\n",
      "[131]\teval-auc:0.999487\teval-error:0.007574\ttrain-auc:0.999913\ttrain-error:0.002678\n",
      "[132]\teval-auc:0.999488\teval-error:0.007633\ttrain-auc:0.999914\ttrain-error:0.002663\n",
      "[133]\teval-auc:0.999491\teval-error:0.007515\ttrain-auc:0.999915\ttrain-error:0.002648\n",
      "[134]\teval-auc:0.999496\teval-error:0.007515\ttrain-auc:0.999918\ttrain-error:0.002559\n",
      "[135]\teval-auc:0.999502\teval-error:0.007574\ttrain-auc:0.99992\ttrain-error:0.002559\n",
      "[136]\teval-auc:0.999502\teval-error:0.007456\ttrain-auc:0.999921\ttrain-error:0.002589\n",
      "[137]\teval-auc:0.999499\teval-error:0.007456\ttrain-auc:0.999923\ttrain-error:0.002559\n",
      "[138]\teval-auc:0.999508\teval-error:0.007515\ttrain-auc:0.999926\ttrain-error:0.0025\n",
      "[139]\teval-auc:0.999513\teval-error:0.007515\ttrain-auc:0.999928\ttrain-error:0.002382\n",
      "[140]\teval-auc:0.999515\teval-error:0.007337\ttrain-auc:0.999929\ttrain-error:0.002426\n",
      "[141]\teval-auc:0.999513\teval-error:0.007456\ttrain-auc:0.99993\ttrain-error:0.002411\n",
      "[142]\teval-auc:0.999512\teval-error:0.007396\ttrain-auc:0.99993\ttrain-error:0.002382\n",
      "[143]\teval-auc:0.999514\teval-error:0.007396\ttrain-auc:0.999932\ttrain-error:0.002337\n",
      "[144]\teval-auc:0.999519\teval-error:0.007396\ttrain-auc:0.999934\ttrain-error:0.002249\n",
      "[145]\teval-auc:0.999523\teval-error:0.007456\ttrain-auc:0.999936\ttrain-error:0.002249\n",
      "[146]\teval-auc:0.99952\teval-error:0.007574\ttrain-auc:0.999937\ttrain-error:0.002219\n",
      "[147]\teval-auc:0.999528\teval-error:0.007456\ttrain-auc:0.999939\ttrain-error:0.002219\n",
      "[148]\teval-auc:0.999527\teval-error:0.007633\ttrain-auc:0.999941\ttrain-error:0.002189\n",
      "[149]\teval-auc:0.999526\teval-error:0.007751\ttrain-auc:0.999942\ttrain-error:0.00216\n",
      "[150]\teval-auc:0.999525\teval-error:0.007633\ttrain-auc:0.999943\ttrain-error:0.00216\n",
      "[151]\teval-auc:0.999526\teval-error:0.007633\ttrain-auc:0.999945\ttrain-error:0.00216\n",
      "[152]\teval-auc:0.999524\teval-error:0.007692\ttrain-auc:0.999945\ttrain-error:0.002145\n",
      "[153]\teval-auc:0.999529\teval-error:0.007574\ttrain-auc:0.999947\ttrain-error:0.00213\n",
      "[154]\teval-auc:0.999529\teval-error:0.007692\ttrain-auc:0.999949\ttrain-error:0.002101\n",
      "[155]\teval-auc:0.999531\teval-error:0.007633\ttrain-auc:0.99995\ttrain-error:0.00216\n",
      "[156]\teval-auc:0.999535\teval-error:0.007515\ttrain-auc:0.999952\ttrain-error:0.002086\n",
      "[157]\teval-auc:0.99954\teval-error:0.007633\ttrain-auc:0.999954\ttrain-error:0.002027\n",
      "[158]\teval-auc:0.999541\teval-error:0.007456\ttrain-auc:0.999956\ttrain-error:0.001997\n",
      "[159]\teval-auc:0.999544\teval-error:0.007396\ttrain-auc:0.999957\ttrain-error:0.002012\n",
      "[160]\teval-auc:0.999544\teval-error:0.007456\ttrain-auc:0.999958\ttrain-error:0.002012\n",
      "[161]\teval-auc:0.999544\teval-error:0.007456\ttrain-auc:0.999958\ttrain-error:0.001982\n",
      "[162]\teval-auc:0.99954\teval-error:0.007574\ttrain-auc:0.999958\ttrain-error:0.001938\n",
      "[163]\teval-auc:0.999539\teval-error:0.007574\ttrain-auc:0.999959\ttrain-error:0.001938\n",
      "[164]\teval-auc:0.999542\teval-error:0.007515\ttrain-auc:0.999961\ttrain-error:0.001938\n",
      "[165]\teval-auc:0.999538\teval-error:0.007456\ttrain-auc:0.999962\ttrain-error:0.001953\n",
      "[166]\teval-auc:0.999538\teval-error:0.007633\ttrain-auc:0.999963\ttrain-error:0.001923\n",
      "[167]\teval-auc:0.999539\teval-error:0.007396\ttrain-auc:0.999964\ttrain-error:0.001923\n",
      "[168]\teval-auc:0.99954\teval-error:0.007456\ttrain-auc:0.999965\ttrain-error:0.001938\n",
      "[169]\teval-auc:0.99954\teval-error:0.007515\ttrain-auc:0.999966\ttrain-error:0.001864\n",
      "[170]\teval-auc:0.999543\teval-error:0.007515\ttrain-auc:0.999967\ttrain-error:0.00179\n",
      "[171]\teval-auc:0.999545\teval-error:0.007515\ttrain-auc:0.999968\ttrain-error:0.001716\n",
      "[172]\teval-auc:0.999548\teval-error:0.007396\ttrain-auc:0.999969\ttrain-error:0.001701\n",
      "[173]\teval-auc:0.999548\teval-error:0.007574\ttrain-auc:0.99997\ttrain-error:0.001612\n",
      "[174]\teval-auc:0.99955\teval-error:0.007456\ttrain-auc:0.999971\ttrain-error:0.001627\n",
      "[175]\teval-auc:0.999556\teval-error:0.007456\ttrain-auc:0.999971\ttrain-error:0.001583\n",
      "[176]\teval-auc:0.999555\teval-error:0.00716\ttrain-auc:0.999973\ttrain-error:0.001524\n",
      "[177]\teval-auc:0.999554\teval-error:0.00716\ttrain-auc:0.999974\ttrain-error:0.001524\n",
      "[178]\teval-auc:0.999551\teval-error:0.007278\ttrain-auc:0.999975\ttrain-error:0.001465\n",
      "[179]\teval-auc:0.999548\teval-error:0.007278\ttrain-auc:0.999975\ttrain-error:0.001479\n",
      "[180]\teval-auc:0.999541\teval-error:0.007337\ttrain-auc:0.999976\ttrain-error:0.001479\n",
      "[181]\teval-auc:0.999542\teval-error:0.007278\ttrain-auc:0.999976\ttrain-error:0.001479\n",
      "[182]\teval-auc:0.999545\teval-error:0.007278\ttrain-auc:0.999977\ttrain-error:0.001479\n",
      "[183]\teval-auc:0.999545\teval-error:0.007278\ttrain-auc:0.999977\ttrain-error:0.00145\n",
      "[184]\teval-auc:0.999545\teval-error:0.007101\ttrain-auc:0.999979\ttrain-error:0.001435\n",
      "[185]\teval-auc:0.999549\teval-error:0.007041\ttrain-auc:0.99998\ttrain-error:0.001361\n",
      "[186]\teval-auc:0.999551\teval-error:0.006864\ttrain-auc:0.99998\ttrain-error:0.001361\n",
      "[187]\teval-auc:0.999551\teval-error:0.006982\ttrain-auc:0.999981\ttrain-error:0.001317\n",
      "[188]\teval-auc:0.999555\teval-error:0.007041\ttrain-auc:0.999981\ttrain-error:0.001302\n",
      "[189]\teval-auc:0.999556\teval-error:0.007041\ttrain-auc:0.999981\ttrain-error:0.001287\n",
      "[190]\teval-auc:0.999559\teval-error:0.007041\ttrain-auc:0.999982\ttrain-error:0.001243\n",
      "[191]\teval-auc:0.999563\teval-error:0.007101\ttrain-auc:0.999982\ttrain-error:0.001243\n",
      "[192]\teval-auc:0.999561\teval-error:0.00716\ttrain-auc:0.999982\ttrain-error:0.001228\n",
      "[193]\teval-auc:0.999561\teval-error:0.00716\ttrain-auc:0.999983\ttrain-error:0.001243\n",
      "[194]\teval-auc:0.99956\teval-error:0.007219\ttrain-auc:0.999984\ttrain-error:0.001213\n",
      "[195]\teval-auc:0.999564\teval-error:0.007396\ttrain-auc:0.999985\ttrain-error:0.001139\n",
      "[196]\teval-auc:0.999562\teval-error:0.007574\ttrain-auc:0.999985\ttrain-error:0.001198\n"
     ]
    },
    {
     "name": "stdout",
     "output_type": "stream",
     "text": [
      "[197]\teval-auc:0.999564\teval-error:0.007396\ttrain-auc:0.999987\ttrain-error:0.001095\n",
      "[198]\teval-auc:0.999565\teval-error:0.007278\ttrain-auc:0.999987\ttrain-error:0.00111\n",
      "[199]\teval-auc:0.999566\teval-error:0.007278\ttrain-auc:0.999988\ttrain-error:0.001095\n"
     ]
    }
   ],
   "source": [
    "dtrain = xg.DMatrix(X_train, label=y_train)\n",
    "dval = xg.DMatrix(X_val, label=y_val)\n",
    "evallist = [(dval, 'eval'), (dtrain, 'train')]\n",
    "model = xg.train(params=params, dtrain=dtrain, num_boost_round=200, evals=evallist, early_stopping_rounds=5)"
   ]
  },
  {
   "cell_type": "markdown",
   "metadata": {},
   "source": [
    "Looks great, beats the two separately (no surprises here). The model converges significantly faster then warbler alone and only a bit slower than descriptors alone. Yay."
   ]
  },
  {
   "cell_type": "code",
   "execution_count": 6,
   "metadata": {},
   "outputs": [],
   "source": [
    "y_pred_prob = model.predict(dtest)\n",
    "y_pred = (y_pred_prob > 0.5).astype(int)"
   ]
  },
  {
   "cell_type": "code",
   "execution_count": 7,
   "metadata": {},
   "outputs": [],
   "source": [
    "r = metrics.classification_report(y_true=y_test, y_pred=y_pred)\n",
    "acc = metrics.accuracy_score(y_true=y_test, y_pred=y_pred)"
   ]
  },
  {
   "cell_type": "code",
   "execution_count": 8,
   "metadata": {},
   "outputs": [
    {
     "name": "stdout",
     "output_type": "stream",
     "text": [
      "             precision    recall  f1-score   support\n",
      "\n",
      "          0       0.99      1.00      1.00      7882\n",
      "          1       0.98      0.97      0.98      1507\n",
      "\n",
      "avg / total       0.99      0.99      0.99      9389\n",
      "\n"
     ]
    }
   ],
   "source": [
    "print(r)"
   ]
  },
  {
   "cell_type": "code",
   "execution_count": 9,
   "metadata": {
    "scrolled": true
   },
   "outputs": [
    {
     "name": "stdout",
     "output_type": "stream",
     "text": [
      "Accuracy:  0.993183512621\n"
     ]
    }
   ],
   "source": [
    "print('Accuracy: ', acc)"
   ]
  },
  {
   "cell_type": "markdown",
   "metadata": {},
   "source": [
    "### Excellent!\n",
    "The score on test set beats significantly the warbler and improves over descriptors alone. **It should be highlighted that the presented metrics have been achieved on test set**. The latter is a novel data set - it has not been used for any sort of tuning."
   ]
  },
  {
   "cell_type": "code",
   "execution_count": null,
   "metadata": {
    "scrolled": false
   },
   "outputs": [
    {
     "data": {
      "text/plain": [
       "<matplotlib.axes._subplots.AxesSubplot at 0x7f774271e748>"
      ]
     },
     "execution_count": 10,
     "metadata": {},
     "output_type": "execute_result"
    },
    {
     "data": {
      "image/png": "[encoded data removed]",
      "text/plain": [
       "<matplotlib.figure.Figure at 0x7f779914a240>"
      ]
     },
     "metadata": {},
     "output_type": "display_data"
    }
   ],
   "source": [
    "model.feature_names = [name.replace(' ', '') for name in model.feature_names]\n",
    "fig, ax = plt.subplots(figsize=(15, 15))\n",
    "xg.plot_importance(model, ax)"
   ]
  },
  {
   "cell_type": "markdown",
   "metadata": {},
   "source": [
    "What is striking is that the pitch I am calculating (with aubio!) beats what warbleR delivers. Also, somewhat less surprisingly, mel-frequencies cepstrum coefficients are doing amazingly well. Curious, since aggregated I did not think they will be THAT informative (at least some). On the other hand, these are meant to capture voice characteristic.\n",
    "\n",
    "Let's see how these features correlate with each other."
   ]
  },
  {
   "cell_type": "code",
   "execution_count": null,
   "metadata": {},
   "outputs": [],
   "source": [
    "data_corr = data.corr()\n",
    "plt.figure(figsize=(20, 20))\n",
    "sns.heatmap(data_corr, \n",
    "            xticklabels=data_corr.columns.values,\n",
    "            yticklabels=data_corr.columns.values,\n",
    "            linewidths=0.2,\n",
    "            vmax=1.0,\n",
    "            square=True,\n",
    "            cmap=plt.cm.viridis,\n",
    "            linecolor='white',\n",
    "            annot=True)\n",
    "plt.savefig('combined_correlation.png')"
   ]
  },
  {
   "cell_type": "markdown",
   "metadata": {},
   "source": [
    "Interestingly, we don't get that high correlation on features that were computed from both approaches, like e.g. spectral flatness. "
   ]
  },
  {
   "cell_type": "code",
   "execution_count": null,
   "metadata": {},
   "outputs": [],
   "source": [
    "plt.figure(figsize=(8, 8))\n",
    "plt.title('Confusion matrix for audio descriptors (Yaafe)')\n",
    "cm = metrics.confusion_matrix(y_true=y_test, y_pred=y_pred)\n",
    "sns.heatmap(cm, annot=True, annot_kws={\"size\": 16}, cmap='Blues', fmt='g', square=True,\n",
    "            xticklabels=['Male - predicted', 'Female - predicted'], yticklabels=['Male - true', 'Female - true'])"
   ]
  },
  {
   "cell_type": "markdown",
   "metadata": {},
   "source": [
    "## Discussion of errors\n",
    "The mistakes are truly marginal. Model does not represent any strong bias. Frankly, I would easily confuse 1% of time a person on a phone. On top of that, the data set contains also recording of youth, meaning also people before voice change - or ongoing change. This will also confuse the model. Last, but not least...\n",
    "\n",
    "# Metadata lies! \n",
    "(mo surprises here)\n",
    "Here are two examples of incorrectly labelled recordings: *male* labelled as *female*:\n",
    "- Anniepoo-20140308-bft - male\n",
    "- abc-20091120-mfr - male"
   ]
  },
  {
   "cell_type": "code",
   "execution_count": null,
   "metadata": {},
   "outputs": [],
   "source": []
  }
 ],
 "metadata": {
  "kernelspec": {
   "display_name": "Python 3",
   "language": "python",
   "name": "python3"
  },
  "language_info": {
   "codemirror_mode": {
    "name": "ipython",
    "version": 3
   },
   "file_extension": ".py",
   "mimetype": "text/x-python",
   "name": "python",
   "nbconvert_exporter": "python",
   "pygments_lexer": "ipython3",
   "version": "3.5.2"
  }
 },
 "nbformat": 4,
 "nbformat_minor": 2
}
