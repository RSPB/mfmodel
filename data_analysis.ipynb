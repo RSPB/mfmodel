{
 "cells": [
  {
   "cell_type": "code",
   "execution_count": 1,
   "metadata": {},
   "outputs": [],
   "source": [
    "import os\n",
    "import glob\n",
    "import sox\n",
    "import tqdm\n",
    "import matplotlib\n",
    "import numpy as np\n",
    "import matplotlib.pyplot as plt\n",
    "from datetime import timedelta\n",
    "from multiprocessing import Pool\n",
    "\n",
    "%matplotlib inline  "
   ]
  },
  {
   "cell_type": "code",
   "execution_count": 2,
   "metadata": {},
   "outputs": [],
   "source": [
    "num_parallel = 16\n",
    "datapath_root = '/home/tracek/Data/gender/raw/'\n",
    "datapath_male = os.path.join(datapath_root, 'male/')\n",
    "datapath_female = os.path.join(datapath_root, 'female/')"
   ]
  },
  {
   "cell_type": "code",
   "execution_count": 3,
   "metadata": {},
   "outputs": [],
   "source": [
    "waves_male_paths = glob.glob(datapath_male + '/**/*.wav', recursive=True)\n",
    "waves_female_paths = glob.glob(datapath_female + '/**/*.wav', recursive=True)\n",
    "readme_paths = glob.glob(datapath_root + '/**/README', recursive=True)"
   ]
  },
  {
   "cell_type": "code",
   "execution_count": 4,
   "metadata": {},
   "outputs": [],
   "source": [
    "assert len(os.listdir(datapath_male)) + len(os.listdir(datapath_female)) == len(readme_paths)"
   ]
  },
  {
   "cell_type": "code",
   "execution_count": 5,
   "metadata": {},
   "outputs": [],
   "source": [
    "def get_info(path):\n",
    "    info = sox.file_info.info(path)\n",
    "    info['path'] = path\n",
    "    if 'num_samples' not in info:\n",
    "        print('No samples in ', path)\n",
    "    return info"
   ]
  },
  {
   "cell_type": "code",
   "execution_count": 6,
   "metadata": {},
   "outputs": [],
   "source": [
    "pool = Pool(processes=num_parallel)\n",
    "male_info = pool.map(get_info, waves_male_paths)\n",
    "female_info = pool.map(get_info, waves_female_paths)"
   ]
  },
  {
   "cell_type": "code",
   "execution_count": null,
   "metadata": {},
   "outputs": [],
   "source": [
    "def get_readme_info(path):\n",
    "    d = {}\n",
    "    with open(path, 'r') as readme:\n",
    "        for line in readme:\n",
    "            gender_match = re.search(\"Gender: (\\W*\\w+\\W*)\", line, re.IGNORECASE)\n",
    "            age_match = re.search(\"Age Range: (\\W*\\w+\\W*)\", line, re.IGNORECASE)\n",
    "            lang_match = re.search(\"Language: (\\W*\\w+\\W*)\", line, re.IGNORECASE)"
   ]
  },
  {
   "cell_type": "code",
   "execution_count": null,
   "metadata": {},
   "outputs": [],
   "source": [
    "duration_male = np.array([info['duration'] for info in male_info])\n",
    "duration_female = np.array([info['duration'] for info in female_info])\n",
    "total_male = int(duration_male.sum())\n",
    "total_female = int(duration_female.sum())\n",
    "print('Total duration of male recordings: {} '.format(str(timedelta(seconds=total_male))))\n",
    "print('Total duration of female recordings: {} '.format(str(timedelta(seconds=total_female))))"
   ]
  },
  {
   "cell_type": "code",
   "execution_count": null,
   "metadata": {},
   "outputs": [],
   "source": [
    "no_bins = 50\n",
    "fig, ax = plt.subplots(1,2, figsize=(15,7))\n",
    "ax[0].set_yscale('symlog')\n",
    "_ = ax[0].hist(duration_male, bins=no_bins, alpha=0.5, label='male')\n",
    "_ = ax[0].hist(duration_female, bins=no_bins, alpha=0.5, label='female')\n",
    "bins = np.linspace(0, 10, no_bins)\n",
    "_ = ax[1].hist(duration_male, bins=bins, alpha=0.5, label='male')\n",
    "_ = ax[1].hist(duration_female, bins=bins, alpha=0.5, label='female')\n",
    "ax[0].legend(loc='upper right')\n",
    "ax[0].set_title('Duration histogram - full length')\n",
    "ax[1].legend(loc='upper right')\n",
    "ax[1].set_title('Duration histogram - up to 10s')"
   ]
  },
  {
   "cell_type": "code",
   "execution_count": null,
   "metadata": {},
   "outputs": [],
   "source": [
    "name_duration_tuples_m = [(info['path'], info['duration']) for info in male_info]\n",
    "name_duration_tuples_m_short = [(info['path'], info['duration']) for info in male_info if info['duration'] < 0.5]"
   ]
  },
  {
   "cell_type": "code",
   "execution_count": null,
   "metadata": {},
   "outputs": [],
   "source": [
    "len(name_duration_tuples_m_short)"
   ]
  },
  {
   "cell_type": "code",
   "execution_count": 9,
   "metadata": {},
   "outputs": [],
   "source": [
    "featurespecs = \\\n",
    "    ['LSF: LSF blockSize=%d stepSize=%d LSFNbCoeffs=10 LSFDisplacement=1',\n",
    "     'MelSpectrum: MelSpectrum blockSize=%d stepSize=%d',\n",
    "     'SpectralCrestFactorPerBand: SpectralCrestFactorPerBand blockSize=%d stepSize=%d',\n",
    "     'SpectralDecrease: SpectralDecrease blockSize=%d stepSize=%d',\n",
    "     'SpectralFlatnessPerBand: SpectralFlatnessPerBand blockSize=%d stepSize=%d',\n",
    "     'SpectralFlux: SpectralFlux blockSize=%d stepSize=%d'\n",
    "     'SpectralSlope: SpectralSlope blockSize=%d stepSize=%d',\n",
    "     'SpectralRolloff: SpectralRolloff blockSize=%d stepSize=%d']\n"
   ]
  },
  {
   "cell_type": "code",
   "execution_count": 15,
   "metadata": {},
   "outputs": [
    {
     "name": "stdout",
     "output_type": "stream",
     "text": [
      "LSF: LSF blockSize=1024 stepSize=512 LSFNbCoeffs=10 LSFDisplacement=1\n",
      "MelSpectrum: MelSpectrum blockSize=1024 stepSize=512\n",
      "SpectralCrestFactorPerBand: SpectralCrestFactorPerBand blockSize=1024 stepSize=512\n",
      "SpectralDecrease: SpectralDecrease blockSize=1024 stepSize=512\n",
      "SpectralFlatnessPerBand: SpectralFlatnessPerBand blockSize=1024 stepSize=512\n"
     ]
    },
    {
     "ename": "TypeError",
     "evalue": "not enough arguments for format string",
     "output_type": "error",
     "traceback": [
      "\u001b[0;31m---------------------------------------------------------------------------\u001b[0m",
      "\u001b[0;31mTypeError\u001b[0m                                 Traceback (most recent call last)",
      "\u001b[0;32m<ipython-input-15-712e927d803b>\u001b[0m in \u001b[0;36m<module>\u001b[0;34m()\u001b[0m\n\u001b[1;32m      1\u001b[0m \u001b[0mblock_size\u001b[0m \u001b[0;34m=\u001b[0m \u001b[0;36m1024\u001b[0m\u001b[0;34m\u001b[0m\u001b[0m\n\u001b[1;32m      2\u001b[0m \u001b[0;32mfor\u001b[0m \u001b[0mfeaturespec\u001b[0m \u001b[0;32min\u001b[0m \u001b[0mfeaturespecs\u001b[0m\u001b[0;34m:\u001b[0m\u001b[0;34m\u001b[0m\u001b[0m\n\u001b[0;32m----> 3\u001b[0;31m     \u001b[0mprint\u001b[0m\u001b[0;34m(\u001b[0m\u001b[0mfeaturespec\u001b[0m \u001b[0;34m%\u001b[0m \u001b[0;34m(\u001b[0m\u001b[0mblock_size\u001b[0m\u001b[0;34m,\u001b[0m \u001b[0mblock_size\u001b[0m \u001b[0;34m/\u001b[0m \u001b[0;36m2\u001b[0m\u001b[0;34m)\u001b[0m\u001b[0;34m)\u001b[0m\u001b[0;34m\u001b[0m\u001b[0m\n\u001b[0m",
      "\u001b[0;31mTypeError\u001b[0m: not enough arguments for format string"
     ]
    }
   ],
   "source": [
    "block_size = 1024\n",
    "for featurespec in featurespecs:\n",
    "    print(featurespec % (block_size, block_size / 2))"
   ]
  },
  {
   "cell_type": "code",
   "execution_count": 14,
   "metadata": {},
   "outputs": [
    {
     "data": {
      "text/plain": [
       "'SpectralFlux: SpectralFlux blockSize=1024 stepSize=512'"
      ]
     },
     "execution_count": 14,
     "metadata": {},
     "output_type": "execute_result"
    }
   ],
   "source": [
    "'SpectralFlux: SpectralFlux blockSize=%d stepSize=%d' % (block_size, block_size / 2)"
   ]
  },
  {
   "cell_type": "code",
   "execution_count": null,
   "metadata": {},
   "outputs": [],
   "source": []
  }
 ],
 "metadata": {
  "kernelspec": {
   "display_name": "Python 3",
   "language": "python",
   "name": "python3"
  },
  "language_info": {
   "codemirror_mode": {
    "name": "ipython",
    "version": 3
   },
   "file_extension": ".py",
   "mimetype": "text/x-python",
   "name": "python",
   "nbconvert_exporter": "python",
   "pygments_lexer": "ipython3",
   "version": "3.5.2"
  }
 },
 "nbformat": 4,
 "nbformat_minor": 2
}
