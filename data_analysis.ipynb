{
 "cells": [
  {
   "cell_type": "code",
   "execution_count": 1,
   "metadata": {},
   "outputs": [],
   "source": [
    "import os\n",
    "import glob\n",
    "import sox\n",
    "import tqdm\n",
    "import matplotlib\n",
    "import numpy as np\n",
    "import matplotlib.pyplot as plt\n",
    "from datetime import timedelta\n",
    "from multiprocessing import Pool\n",
    "\n",
    "%matplotlib inline  "
   ]
  },
  {
   "cell_type": "code",
   "execution_count": 2,
   "metadata": {},
   "outputs": [],
   "source": [
    "num_parallel = 16\n",
    "datapath_root = '/home/tracek/Data/gender/raw/'\n",
    "datapath_male = os.path.join(datapath_root, 'male/')\n",
    "datapath_female = os.path.join(datapath_root, 'female/')"
   ]
  },
  {
   "cell_type": "code",
   "execution_count": 3,
   "metadata": {},
   "outputs": [],
   "source": [
    "waves_male_paths = glob.glob(datapath_male + '/**/*.wav', recursive=True)\n",
    "waves_female_paths = glob.glob(datapath_female + '/**/*.wav', recursive=True)\n",
    "readme_paths = glob.glob(datapath_root + '/**/README', recursive=True)"
   ]
  },
  {
   "cell_type": "code",
   "execution_count": 4,
   "metadata": {},
   "outputs": [],
   "source": [
    "assert len(os.listdir(datapath_male)) + len(os.listdir(datapath_female)) == len(readme_paths)"
   ]
  },
  {
   "cell_type": "code",
   "execution_count": 5,
   "metadata": {},
   "outputs": [],
   "source": [
    "def get_info(path):\n",
    "    info = sox.file_info.info(path)\n",
    "    info['path'] = path\n",
    "    if 'num_samples' not in info:\n",
    "        print('No samples in ', path)\n",
    "    return info"
   ]
  },
  {
   "cell_type": "code",
   "execution_count": 6,
   "metadata": {},
   "outputs": [
    {
     "name": "stderr",
     "output_type": "stream",
     "text": [
      "WARNING:root:Number of samples unavailable for /home/tracek/Data/gender/raw/male/itricker-20110528-ibp/a0153.wav\n",
      "WARNING:root:Number of samples unavailable for /home/tracek/Data/gender/raw/male/itricker-20110528-ibp/a0152.wav\n",
      "WARNING:root:Number of samples unavailable for /home/tracek/Data/gender/raw/male/itricker-20110528-ibp/a0145.wav\n",
      "WARNING:root:Number of samples unavailable for /home/tracek/Data/gender/raw/male/itricker-20110528-ibp/a0151.wav\n",
      "WARNING:root:Number of samples unavailable for /home/tracek/Data/gender/raw/male/itricker-20110528-ibp/a0154.wav\n",
      "WARNING:root:Number of samples unavailable for /home/tracek/Data/gender/raw/male/itricker-20110528-ibp/a0146.wav\n",
      "WARNING:root:Number of samples unavailable for /home/tracek/Data/gender/raw/male/itricker-20110528-ibp/a0149.wav\n",
      "WARNING:root:Number of samples unavailable for /home/tracek/Data/gender/raw/male/itricker-20110528-ibp/a0150.wav\n",
      "WARNING:root:Number of samples unavailable for /home/tracek/Data/gender/raw/male/itricker-20110528-ibp/a0148.wav\n",
      "WARNING:root:Number of samples unavailable for /home/tracek/Data/gender/raw/male/itricker-20110528-ibp/a0147.wav\n",
      "WARNING:root:Number of samples unavailable for /home/tracek/Data/gender/raw/male/anonymous-20090704-dhe/a0578.wav\n",
      "WARNING:root:Number of samples unavailable for /home/tracek/Data/gender/raw/male/anonymous-20090704-dhe/a0576.wav\n",
      "WARNING:root:Number of samples unavailable for /home/tracek/Data/gender/raw/male/anonymous-20090704-dhe/a0579.wav\n",
      "WARNING:root:Number of samples unavailable for /home/tracek/Data/gender/raw/male/anonymous-20090704-dhe/a0572.wav\n",
      "WARNING:root:Number of samples unavailable for /home/tracek/Data/gender/raw/male/anonymous-20090704-dhe/a0575.wav\n",
      "WARNING:root:Number of samples unavailable for /home/tracek/Data/gender/raw/male/anonymous-20090704-dhe/a0581.wav\n",
      "WARNING:root:Number of samples unavailable for /home/tracek/Data/gender/raw/male/anonymous-20090704-dhe/a0574.wav\n",
      "WARNING:root:Number of samples unavailable for /home/tracek/Data/gender/raw/male/Ronin_Sage-20080110-ny/rp-04.wav\n",
      "WARNING:root:Number of samples unavailable for /home/tracek/Data/gender/raw/male/Ronin_Sage-20080110-ny/rp-03.wav\n",
      "WARNING:root:Number of samples unavailable for /home/tracek/Data/gender/raw/male/anonymous-20120708-bcs/b0270.wav\n",
      "WARNING:root:Number of samples unavailable for /home/tracek/Data/gender/raw/male/anonymous-20120708-bcs/b0268.wav\n",
      "WARNING:root:Number of samples unavailable for /home/tracek/Data/gender/raw/male/Ronin_Sage-20080110-ny/rp-07.wav\n",
      "WARNING:root:Number of samples unavailable for /home/tracek/Data/gender/raw/male/anonymous-20120708-bcs/b0272.wav\n",
      "WARNING:root:Number of samples unavailable for /home/tracek/Data/gender/raw/male/anonymous-20120708-bcs/b0264.wav\n",
      "WARNING:root:Number of samples unavailable for /home/tracek/Data/gender/raw/male/anonymous-20120708-bcs/b0265.wav\n",
      "WARNING:root:Number of samples unavailable for /home/tracek/Data/gender/raw/male/anonymous-20120708-bcs/b0266.wav\n",
      "WARNING:root:Number of samples unavailable for /home/tracek/Data/gender/raw/male/anonymous-20120708-bcs/b0271.wav\n",
      "WARNING:root:Number of samples unavailable for /home/tracek/Data/gender/raw/male/anonymous-20120708-bcs/b0273.wav\n",
      "WARNING:root:Number of samples unavailable for /home/tracek/Data/gender/raw/male/necrose99-20080308-wvg/a0385.wav\n",
      "WARNING:root:Number of samples unavailable for /home/tracek/Data/gender/raw/male/itricker-20110528-pjs/b0192.wav\n",
      "WARNING:root:Number of samples unavailable for /home/tracek/Data/gender/raw/male/itricker-20110528-pjs/b0197.wav\n",
      "WARNING:root:Number of samples unavailable for /home/tracek/Data/gender/raw/male/itricker-20110528-pjs/b0200.wav\n",
      "WARNING:root:Number of samples unavailable for /home/tracek/Data/gender/raw/male/itricker-20110528-pjs/b0194.wav\n",
      "WARNING:root:Number of samples unavailable for /home/tracek/Data/gender/raw/male/itricker-20110528-pjs/b0198.wav\n",
      "WARNING:root:Number of samples unavailable for /home/tracek/Data/gender/raw/male/itricker-20110528-pjs/b0196.wav\n",
      "WARNING:root:Number of samples unavailable for /home/tracek/Data/gender/raw/male/itricker-20110528-pjs/b0195.wav\n",
      "WARNING:root:Number of samples unavailable for /home/tracek/Data/gender/raw/male/itricker-20110528-pjs/b0201.wav\n",
      "WARNING:root:Number of samples unavailable for /home/tracek/Data/gender/raw/male/itricker-20110528-pjs/b0193.wav\n",
      "WARNING:root:Number of samples unavailable for /home/tracek/Data/gender/raw/male/itricker-20110528-pjs/b0199.wav\n",
      "WARNING:root:Number of samples unavailable for /home/tracek/Data/gender/raw/male/anonymous-20110625-zmv/a0511.wav\n",
      "WARNING:root:Number of samples unavailable for /home/tracek/Data/gender/raw/male/anonymous-20110625-zmv/a0512.wav\n",
      "WARNING:root:Number of samples unavailable for /home/tracek/Data/gender/raw/male/anonymous-20110625-zmv/a0515.wav\n",
      "WARNING:root:Number of samples unavailable for /home/tracek/Data/gender/raw/male/anonymous-20110625-zmv/a0513.wav\n",
      "WARNING:root:Number of samples unavailable for /home/tracek/Data/gender/raw/male/anonymous-20110625-zmv/a0516.wav\n",
      "WARNING:root:Number of samples unavailable for /home/tracek/Data/gender/raw/male/anonymous-20110625-zmv/a0514.wav\n",
      "WARNING:root:Number of samples unavailable for /home/tracek/Data/gender/raw/male/anonymous-20110625-zmv/a0509.wav\n",
      "WARNING:root:Number of samples unavailable for /home/tracek/Data/gender/raw/male/anonymous-20110625-zmv/a0510.wav\n",
      "WARNING:root:Number of samples unavailable for /home/tracek/Data/gender/raw/male/anonymous-20110625-zmv/a0506.wav\n",
      "WARNING:root:Number of samples unavailable for /home/tracek/Data/gender/raw/male/anonymous-20110625-zmv/a0508.wav\n",
      "WARNING:root:Number of samples unavailable for /home/tracek/Data/gender/raw/male/rjmunro-20090210-jbe/b0354.wav\n",
      "WARNING:root:Number of samples unavailable for /home/tracek/Data/gender/raw/male/anonymous-20090704-jan/a0329.wav\n",
      "WARNING:root:Number of samples unavailable for /home/tracek/Data/gender/raw/male/anonymous-20090704-jan/a0331.wav\n",
      "WARNING:root:Number of samples unavailable for /home/tracek/Data/gender/raw/male/anonymous-20090704-jan/a0333.wav\n",
      "WARNING:root:Number of samples unavailable for /home/tracek/Data/gender/raw/male/anonymous-20090704-jan/a0332.wav\n",
      "WARNING:root:Number of samples unavailable for /home/tracek/Data/gender/raw/male/anonymous-20090704-jan/a0327.wav\n",
      "WARNING:root:Number of samples unavailable for /home/tracek/Data/gender/raw/male/anonymous-20090704-jan/a0335.wav\n",
      "WARNING:root:Number of samples unavailable for /home/tracek/Data/gender/raw/male/anonymous-20090704-jan/a0330.wav\n",
      "WARNING:root:Number of samples unavailable for /home/tracek/Data/gender/raw/male/anonymous-20090704-jan/a0326.wav\n",
      "WARNING:root:Number of samples unavailable for /home/tracek/Data/gender/raw/male/anonymous-20100310-ihg/b0032.wav\n",
      "WARNING:root:Number of samples unavailable for /home/tracek/Data/gender/raw/male/anonymous-20100310-ihg/b0028.wav\n",
      "WARNING:root:Number of samples unavailable for /home/tracek/Data/gender/raw/male/anonymous-20100310-ihg/b0024.wav\n",
      "WARNING:root:Number of samples unavailable for /home/tracek/Data/gender/raw/male/anonymous-20100310-ihg/b0027.wav\n",
      "WARNING:root:Number of samples unavailable for /home/tracek/Data/gender/raw/male/anonymous-20100310-ihg/b0031.wav\n",
      "WARNING:root:Number of samples unavailable for /home/tracek/Data/gender/raw/male/anonymous-20100310-ihg/b0025.wav\n",
      "WARNING:root:Number of samples unavailable for /home/tracek/Data/gender/raw/male/anonymous-20090530-myu/a0398.wav\n",
      "WARNING:root:Number of samples unavailable for /home/tracek/Data/gender/raw/male/anonymous-20090530-myu/a0399.wav\n",
      "WARNING:root:Number of samples unavailable for /home/tracek/Data/gender/raw/male/anonymous-20090530-myu/a0404.wav\n",
      "WARNING:root:Number of samples unavailable for /home/tracek/Data/gender/raw/male/anonymous-20090530-myu/a0397.wav\n",
      "WARNING:root:Number of samples unavailable for /home/tracek/Data/gender/raw/male/anonymous-20090530-myu/a0400.wav\n",
      "WARNING:root:Number of samples unavailable for /home/tracek/Data/gender/raw/male/anonymous-20090530-myu/a0402.wav\n",
      "WARNING:root:Number of samples unavailable for /home/tracek/Data/gender/raw/male/anonymous-20090530-myu/a0403.wav\n",
      "WARNING:root:Number of samples unavailable for /home/tracek/Data/gender/raw/male/anonymous-20090530-myu/a0396.wav\n",
      "WARNING:root:Number of samples unavailable for /home/tracek/Data/gender/raw/male/anonymous-20090530-myu/a0395.wav\n"
     ]
    },
    {
     "name": "stderr",
     "output_type": "stream",
     "text": [
      "WARNING:root:Number of samples unavailable for /home/tracek/Data/gender/raw/male/anonymous-20090530-myu/a0401.wav\n",
      "WARNING:root:Number of samples unavailable for /home/tracek/Data/gender/raw/male/anonymous-20100111-rhu/a0023.wav\n",
      "WARNING:root:Number of samples unavailable for /home/tracek/Data/gender/raw/male/anonymous-20100111-rhu/a0022.wav\n",
      "WARNING:root:Number of samples unavailable for /home/tracek/Data/gender/raw/male/anonymous-20100111-rhu/a0021.wav\n",
      "WARNING:root:Number of samples unavailable for /home/tracek/Data/gender/raw/male/anonymous-20091220-kcz/b0068.wav\n",
      "WARNING:root:Number of samples unavailable for /home/tracek/Data/gender/raw/male/anonymous-20100111-rhu/a0018.wav\n",
      "WARNING:root:Number of samples unavailable for /home/tracek/Data/gender/raw/male/anonymous-20091220-kcz/b0071.wav\n",
      "WARNING:root:Number of samples unavailable for /home/tracek/Data/gender/raw/male/anonymous-20100111-rhu/a0026.wav\n",
      "WARNING:root:Number of samples unavailable for /home/tracek/Data/gender/raw/male/anonymous-20100111-rhu/a0024.wav\n",
      "WARNING:root:Number of samples unavailable for /home/tracek/Data/gender/raw/male/anonymous-20091220-kcz/b0073.wav\n",
      "WARNING:root:Number of samples unavailable for /home/tracek/Data/gender/raw/male/anonymous-20100111-rhu/a0025.wav\n",
      "WARNING:root:Number of samples unavailable for /home/tracek/Data/gender/raw/male/anonymous-20091220-kcz/b0070.wav\n",
      "WARNING:root:Number of samples unavailable for /home/tracek/Data/gender/raw/male/anonymous-20100111-rhu/a0019.wav\n",
      "WARNING:root:Number of samples unavailable for /home/tracek/Data/gender/raw/male/anonymous-20091220-kcz/b0067.wav\n",
      "WARNING:root:Number of samples unavailable for /home/tracek/Data/gender/raw/male/anonymous-20100111-rhu/a0020.wav\n",
      "WARNING:root:Number of samples unavailable for /home/tracek/Data/gender/raw/male/anonymous-20091220-kcz/b0076.wav\n",
      "WARNING:root:Number of samples unavailable for /home/tracek/Data/gender/raw/male/anonymous-20100111-rhu/a0027.wav\n",
      "WARNING:root:Number of samples unavailable for /home/tracek/Data/gender/raw/male/anonymous-20091220-kcz/b0075.wav\n",
      "WARNING:root:Number of samples unavailable for /home/tracek/Data/gender/raw/male/anonymous-20091220-kcz/b0072.wav\n",
      "WARNING:root:Number of samples unavailable for /home/tracek/Data/gender/raw/male/anonymous-20091220-kcz/b0069.wav\n",
      "WARNING:root:Number of samples unavailable for /home/tracek/Data/gender/raw/male/anonymous-20160109-spl/a0373.wav\n",
      "WARNING:root:Number of samples unavailable for /home/tracek/Data/gender/raw/male/anonymous-20160109-spl/a0370.wav\n",
      "WARNING:root:Number of samples unavailable for /home/tracek/Data/gender/raw/male/anonymous-20160109-spl/a0372.wav\n",
      "WARNING:root:Number of samples unavailable for /home/tracek/Data/gender/raw/male/anonymous-20160109-spl/a0374.wav\n",
      "WARNING:root:Number of samples unavailable for /home/tracek/Data/gender/raw/male/JimWhite-20100807-lhk/b0354.wav\n",
      "WARNING:root:Number of samples unavailable for /home/tracek/Data/gender/raw/male/Ertain-20110602-lec/b0306.wav\n",
      "WARNING:root:Number of samples unavailable for /home/tracek/Data/gender/raw/male/Ertain-20110602-lec/b0307.wav\n",
      "WARNING:root:Number of samples unavailable for /home/tracek/Data/gender/raw/male/Ertain-20110602-lec/b0302.wav\n",
      "WARNING:root:Number of samples unavailable for /home/tracek/Data/gender/raw/male/Ertain-20110602-lec/b0300.wav\n",
      "WARNING:root:Number of samples unavailable for /home/tracek/Data/gender/raw/male/Ertain-20110602-lec/b0305.wav\n",
      "WARNING:root:Number of samples unavailable for /home/tracek/Data/gender/raw/male/Ertain-20110602-lec/b0304.wav\n",
      "WARNING:root:Number of samples unavailable for /home/tracek/Data/gender/raw/male/Ertain-20110602-lec/b0301.wav\n",
      "WARNING:root:Number of samples unavailable for /home/tracek/Data/gender/raw/male/Ertain-20110602-lec/b0299.wav\n",
      "WARNING:root:Number of samples unavailable for /home/tracek/Data/gender/raw/male/Ertain-20110602-lec/b0298.wav\n",
      "WARNING:root:Number of samples unavailable for /home/tracek/Data/gender/raw/male/Ertain-20110602-lec/b0303.wav\n",
      "WARNING:root:Number of samples unavailable for /home/tracek/Data/gender/raw/male/itricker-20110528-nxv/a0493.wav\n",
      "WARNING:root:Number of samples unavailable for /home/tracek/Data/gender/raw/male/itricker-20110528-nxv/a0491.wav\n",
      "WARNING:root:Number of samples unavailable for /home/tracek/Data/gender/raw/male/itricker-20110528-nxv/a0498.wav\n",
      "WARNING:root:Number of samples unavailable for /home/tracek/Data/gender/raw/male/itricker-20110528-nxv/a0497.wav\n",
      "WARNING:root:Number of samples unavailable for /home/tracek/Data/gender/raw/male/itricker-20110528-nxv/a0499.wav\n",
      "WARNING:root:Number of samples unavailable for /home/tracek/Data/gender/raw/male/itricker-20110528-nxv/a0496.wav\n",
      "WARNING:root:Number of samples unavailable for /home/tracek/Data/gender/raw/male/itricker-20110528-nxv/a0492.wav\n",
      "WARNING:root:Number of samples unavailable for /home/tracek/Data/gender/raw/male/itricker-20110528-nxv/a0495.wav\n",
      "WARNING:root:Number of samples unavailable for /home/tracek/Data/gender/raw/male/itricker-20110528-nxv/a0490.wav\n",
      "WARNING:root:Number of samples unavailable for /home/tracek/Data/gender/raw/male/itricker-20110528-nxv/a0494.wav\n",
      "WARNING:root:Number of samples unavailable for /home/tracek/Data/gender/raw/male/greekenglish-20091229-rcc/a0196.wav\n",
      "WARNING:root:Number of samples unavailable for /home/tracek/Data/gender/raw/male/greekenglish-20091229-rcc/a0194.wav\n",
      "WARNING:root:Number of samples unavailable for /home/tracek/Data/gender/raw/male/anonymous-20080216-yrh/a0217.wav\n",
      "WARNING:root:Number of samples unavailable for /home/tracek/Data/gender/raw/male/anonymous-20080216-yrh/a0216.wav\n",
      "WARNING:root:Number of samples unavailable for /home/tracek/Data/gender/raw/male/Ertain-20100728-jxz/b0446.wav\n",
      "WARNING:root:Number of samples unavailable for /home/tracek/Data/gender/raw/male/Ertain-20100728-jxz/b0444.wav\n",
      "WARNING:root:Number of samples unavailable for /home/tracek/Data/gender/raw/male/Ertain-20100728-jxz/b0448.wav\n",
      "WARNING:root:Number of samples unavailable for /home/tracek/Data/gender/raw/male/Ertain-20100728-jxz/b0451.wav\n",
      "WARNING:root:Number of samples unavailable for /home/tracek/Data/gender/raw/male/glados-20110220-osl/a0381.wav\n",
      "WARNING:root:Number of samples unavailable for /home/tracek/Data/gender/raw/male/glados-20110220-osl/a0383.wav\n",
      "WARNING:root:Number of samples unavailable for /home/tracek/Data/gender/raw/male/glados-20110220-osl/a0378.wav\n",
      "WARNING:root:Number of samples unavailable for /home/tracek/Data/gender/raw/male/glados-20110220-osl/a0385.wav\n",
      "WARNING:root:Number of samples unavailable for /home/tracek/Data/gender/raw/male/anonymous-20091001-auy/a0304.wav\n",
      "WARNING:root:Number of samples unavailable for /home/tracek/Data/gender/raw/male/anonymous-20091001-auy/a0305.wav\n",
      "WARNING:root:Number of samples unavailable for /home/tracek/Data/gender/raw/male/anonymous-20140525-muy/a0578.wav\n",
      "WARNING:root:Number of samples unavailable for /home/tracek/Data/gender/raw/male/anonymous-20140525-muy/a0582.wav\n",
      "WARNING:root:Number of samples unavailable for /home/tracek/Data/gender/raw/male/anonymous-20140525-muy/a0576.wav\n",
      "WARNING:root:Number of samples unavailable for /home/tracek/Data/gender/raw/male/anonymous-20140525-muy/a0580.wav\n",
      "WARNING:root:Number of samples unavailable for /home/tracek/Data/gender/raw/male/anonymous-20140525-muy/a0583.wav\n",
      "WARNING:root:Number of samples unavailable for /home/tracek/Data/gender/raw/male/anonymous-20140525-muy/a0579.wav\n",
      "WARNING:root:Number of samples unavailable for /home/tracek/Data/gender/raw/male/anonymous-20140525-muy/a0577.wav\n",
      "WARNING:root:Number of samples unavailable for /home/tracek/Data/gender/raw/male/anonymous-20140525-muy/a0575.wav\n",
      "WARNING:root:Number of samples unavailable for /home/tracek/Data/gender/raw/male/itricker-20110528-ezp/rb-36.wav\n",
      "WARNING:root:Number of samples unavailable for /home/tracek/Data/gender/raw/male/itricker-20110528-ezp/a0002.wav\n",
      "WARNING:root:Number of samples unavailable for /home/tracek/Data/gender/raw/male/itricker-20110528-ezp/rb-34.wav\n",
      "WARNING:root:Number of samples unavailable for /home/tracek/Data/gender/raw/male/itricker-20110528-ezp/rb-35.wav\n",
      "WARNING:root:Number of samples unavailable for /home/tracek/Data/gender/raw/male/itricker-20110528-ezp/rb-37.wav\n",
      "WARNING:root:Number of samples unavailable for /home/tracek/Data/gender/raw/male/itricker-20110528-ezp/rb-32.wav\n"
     ]
    },
    {
     "name": "stderr",
     "output_type": "stream",
     "text": [
      "WARNING:root:Number of samples unavailable for /home/tracek/Data/gender/raw/male/itricker-20110528-ezp/rb-33.wav\n",
      "WARNING:root:Number of samples unavailable for /home/tracek/Data/gender/raw/male/itricker-20110528-ezp/rb-30.wav\n",
      "WARNING:root:Number of samples unavailable for /home/tracek/Data/gender/raw/male/itricker-20110528-ezp/a0001.wav\n",
      "WARNING:root:Number of samples unavailable for /home/tracek/Data/gender/raw/male/itricker-20110528-ezp/rb-31.wav\n",
      "WARNING:root:Number of samples unavailable for /home/tracek/Data/gender/raw/male/patrick-20080216-uvv/b0222.wav\n",
      "WARNING:root:Number of samples unavailable for /home/tracek/Data/gender/raw/male/patrick-20080216-uvv/b0225.wav\n",
      "WARNING:root:Number of samples unavailable for /home/tracek/Data/gender/raw/male/patrick-20080216-uvv/b0227.wav\n",
      "WARNING:root:Number of samples unavailable for /home/tracek/Data/gender/raw/male/patrick-20080216-uvv/b0223.wav\n",
      "WARNING:root:Number of samples unavailable for /home/tracek/Data/gender/raw/male/patrick-20080216-uvv/b0229.wav\n",
      "WARNING:root:Number of samples unavailable for /home/tracek/Data/gender/raw/male/Ertain-20100728-euy/a0029.wav\n",
      "WARNING:root:Number of samples unavailable for /home/tracek/Data/gender/raw/male/patrick-20080216-uvv/b0228.wav\n",
      "WARNING:root:Number of samples unavailable for /home/tracek/Data/gender/raw/male/patrick-20080216-uvv/b0221.wav\n",
      "WARNING:root:Number of samples unavailable for /home/tracek/Data/gender/raw/male/patrick-20080216-uvv/b0220.wav\n",
      "WARNING:root:Number of samples unavailable for /home/tracek/Data/gender/raw/male/patrick-20080216-uvv/b0224.wav\n",
      "WARNING:root:Number of samples unavailable for /home/tracek/Data/gender/raw/male/patrick-20080216-uvv/b0226.wav\n",
      "WARNING:root:Number of samples unavailable for /home/tracek/Data/gender/raw/male/ductapeguy-20070308b/bab.0069.wav\n",
      "WARNING:root:Number of samples unavailable for /home/tracek/Data/gender/raw/male/ductapeguy-20070308b/bab.0044.wav\n",
      "WARNING:root:Number of samples unavailable for /home/tracek/Data/gender/raw/male/Ertain-20110602-zpj/a0392.wav\n",
      "WARNING:root:Number of samples unavailable for /home/tracek/Data/gender/raw/male/Ertain-20110602-zpj/a0390.wav\n",
      "WARNING:root:Number of samples unavailable for /home/tracek/Data/gender/raw/male/Ertain-20110602-zpj/a0393.wav\n",
      "WARNING:root:Number of samples unavailable for /home/tracek/Data/gender/raw/male/Ertain-20110602-zpj/a0397.wav\n",
      "WARNING:root:Number of samples unavailable for /home/tracek/Data/gender/raw/male/Ertain-20110602-zpj/a0388.wav\n",
      "WARNING:root:Number of samples unavailable for /home/tracek/Data/gender/raw/male/Ertain-20110602-zpj/a0394.wav\n",
      "WARNING:root:Number of samples unavailable for /home/tracek/Data/gender/raw/male/Ertain-20110602-zpj/a0389.wav\n",
      "WARNING:root:Number of samples unavailable for /home/tracek/Data/gender/raw/male/Ertain-20110602-zpj/a0396.wav\n",
      "WARNING:root:Number of samples unavailable for /home/tracek/Data/gender/raw/male/Ertain-20110602-zpj/a0395.wav\n",
      "WARNING:root:Number of samples unavailable for /home/tracek/Data/gender/raw/male/Ertain-20110602-zpj/a0391.wav\n",
      "WARNING:root:Number of samples unavailable for /home/tracek/Data/gender/raw/female/cmu_us_clb_arctic/arctic_b0354.wav\n",
      "WARNING:root:Number of samples unavailable for /home/tracek/Data/gender/raw/female/alienation-20120207-min/b0231.wav\n",
      "WARNING:root:Number of samples unavailable for /home/tracek/Data/gender/raw/female/Peyrine-20091111-ptc/a0036.wav\n",
      "WARNING:root:Number of samples unavailable for /home/tracek/Data/gender/raw/female/Peyrine-20091111-ptc/a0038.wav\n",
      "WARNING:root:Number of samples unavailable for /home/tracek/Data/gender/raw/female/anonymous-20111114-bqi/a0473.wav\n",
      "WARNING:root:Number of samples unavailable for /home/tracek/Data/gender/raw/female/anonymous-20111114-bqi/a0476.wav\n",
      "WARNING:root:Number of samples unavailable for /home/tracek/Data/gender/raw/female/anonymous-20111114-bqi/a0468.wav\n",
      "WARNING:root:Number of samples unavailable for /home/tracek/Data/gender/raw/female/anonymous-20111114-bqi/a0470.wav\n",
      "WARNING:root:Number of samples unavailable for /home/tracek/Data/gender/raw/female/anonymous-20111114-bqi/a0474.wav\n",
      "WARNING:root:Number of samples unavailable for /home/tracek/Data/gender/raw/female/anonymous-20111114-bqi/a0469.wav\n",
      "WARNING:root:Number of samples unavailable for /home/tracek/Data/gender/raw/female/anonymous-20111114-bqi/a0471.wav\n",
      "WARNING:root:Number of samples unavailable for /home/tracek/Data/gender/raw/female/anonymous-20080117-wqy/a0426.wav\n",
      "WARNING:root:Number of samples unavailable for /home/tracek/Data/gender/raw/female/anonymous-20080117-wqy/a0427.wav\n"
     ]
    }
   ],
   "source": [
    "pool = Pool(processes=num_parallel)\n",
    "male_info = pool.map(get_info, waves_male_paths)\n",
    "female_info = pool.map(get_info, waves_female_paths)"
   ]
  },
  {
   "cell_type": "code",
   "execution_count": 7,
   "metadata": {},
   "outputs": [],
   "source": [
    "def get_readme_info(path):\n",
    "    d = {}\n",
    "    with open(path, 'r') as readme:\n",
    "        for line in readme:\n",
    "            gender_match = re.search(\"Gender: (\\W*\\w+\\W*)\", line, re.IGNORECASE)\n",
    "            age_match = re.search(\"Age Range: (\\W*\\w+\\W*)\", line, re.IGNORECASE)\n",
    "            lang_match = re.search(\"Language: (\\W*\\w+\\W*)\", line, re.IGNORECASE)"
   ]
  },
  {
   "cell_type": "code",
   "execution_count": 8,
   "metadata": {},
   "outputs": [
    {
     "name": "stdout",
     "output_type": "stream",
     "text": [
      "Total duration of male recordings: 3 days, 22:45:15 \n",
      "Total duration of female recordings: 17:02:11 \n"
     ]
    }
   ],
   "source": [
    "duration_male = np.array([info['duration'] for info in male_info])\n",
    "duration_female = np.array([info['duration'] for info in female_info])\n",
    "total_male = int(duration_male.sum())\n",
    "total_female = int(duration_female.sum())\n",
    "print('Total duration of male recordings: {} '.format(str(timedelta(seconds=total_male))))\n",
    "print('Total duration of female recordings: {} '.format(str(timedelta(seconds=total_female))))"
   ]
  },
  {
   "cell_type": "code",
   "execution_count": 9,
   "metadata": {},
   "outputs": [
    {
     "data": {
      "text/plain": [
       "Text(0.5,1,'Duration histogram - up to 10s')"
      ]
     },
     "execution_count": 9,
     "metadata": {},
     "output_type": "execute_result"
    },
    {
     "data": {
      "image/png": "[encoded data removed]",
      "text/plain": [
       "<matplotlib.figure.Figure at 0x7f966d334c50>"
      ]
     },
     "metadata": {},
     "output_type": "display_data"
    }
   ],
   "source": [
    "no_bins = 50\n",
    "fig, ax = plt.subplots(1,2, figsize=(15,7))\n",
    "ax[0].set_yscale('symlog')\n",
    "_ = ax[0].hist(duration_male, bins=no_bins, alpha=0.5, label='male')\n",
    "_ = ax[0].hist(duration_female, bins=no_bins, alpha=0.5, label='female')\n",
    "bins = np.linspace(0, 10, no_bins)\n",
    "_ = ax[1].hist(duration_male, bins=bins, alpha=0.5, label='male')\n",
    "_ = ax[1].hist(duration_female, bins=bins, alpha=0.5, label='female')\n",
    "ax[0].legend(loc='upper right')\n",
    "ax[0].set_title('Duration histogram - full length')\n",
    "ax[1].legend(loc='upper right')\n",
    "ax[1].set_title('Duration histogram - up to 10s')"
   ]
  },
  {
   "cell_type": "code",
   "execution_count": 10,
   "metadata": {},
   "outputs": [],
   "source": [
    "name_duration_tuples_m = [(info['path'], info['duration']) for info in male_info]\n",
    "name_duration_tuples_m_short = [(info['path'], info['duration']) for info in male_info if info['duration'] < 0.5]"
   ]
  },
  {
   "cell_type": "code",
   "execution_count": 11,
   "metadata": {},
   "outputs": [
    {
     "data": {
      "text/plain": [
       "183"
      ]
     },
     "execution_count": 11,
     "metadata": {},
     "output_type": "execute_result"
    }
   ],
   "source": [
    "len(name_duration_tuples_m_short)"
   ]
  },
  {
   "cell_type": "code",
   "execution_count": null,
   "metadata": {},
   "outputs": [],
   "source": []
  }
 ],
 "metadata": {
  "kernelspec": {
   "display_name": "Python 3",
   "language": "python",
   "name": "python3"
  },
  "language_info": {
   "codemirror_mode": {
    "name": "ipython",
    "version": 3
   },
   "file_extension": ".py",
   "mimetype": "text/x-python",
   "name": "python",
   "nbconvert_exporter": "python",
   "pygments_lexer": "ipython3",
   "version": "3.5.2"
  }
 },
 "nbformat": 4,
 "nbformat_minor": 2
}
