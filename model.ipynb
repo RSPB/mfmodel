{
 "cells": [
  {
   "cell_type": "code",
   "execution_count": 1,
   "metadata": {},
   "outputs": [],
   "source": [
    "import sklearn\n",
    "import numpy as np\n",
    "import pandas as pd\n",
    "import xgboost as xg\n",
    "import seaborn as sns\n",
    "import matplotlib.pyplot as plt\n",
    "\n",
    "from sklearn import metrics\n",
    "from sklearn.model_selection import train_test_split\n",
    "\n",
    "%matplotlib inline  "
   ]
  },
  {
   "cell_type": "code",
   "execution_count": 13,
   "metadata": {},
   "outputs": [],
   "source": [
    "equal_no_samples_in_each_class = False\n",
    "datapath = '/home/tracek/Data/gender/gender_warbler.csv'\n",
    "seed = 42\n",
    "\n",
    "params = {'max_depth': 13,\n",
    "          'n_estimators': 1000,\n",
    "          'objective': 'binary:logistic',\n",
    "          'eval_metric': ['auc', 'error'],\n",
    "          'nthread': 15}\n",
    "\n",
    "test_fraction = 0.1\n",
    "val_fraction = 0.2"
   ]
  },
  {
   "cell_type": "code",
   "execution_count": 3,
   "metadata": {},
   "outputs": [],
   "source": [
    "data = pd.read_csv(datapath).drop(['centroid', 'filename'], axis=1) # centroid corresponds to meanfreq\n",
    "male_df_len = len(data[data['label'] == 0])\n",
    "female_df_len = len(data[data['label'] == 1])"
   ]
  },
  {
   "cell_type": "code",
   "execution_count": 4,
   "metadata": {},
   "outputs": [],
   "source": [
    "if equal_no_samples_in_each_class:\n",
    "    fraction_to_drop = 1 - female_df_len / male_df_len\n",
    "    data = data.drop(data[data['label'] == 0].sample(frac=fraction_to_drop, random_state=seed).index)"
   ]
  },
  {
   "cell_type": "code",
   "execution_count": 5,
   "metadata": {},
   "outputs": [],
   "source": [
    "y = data.pop('label')"
   ]
  },
  {
   "cell_type": "code",
   "execution_count": 6,
   "metadata": {},
   "outputs": [],
   "source": [
    "if test_fraction > 0.0:\n",
    "    X_train, X_test, y_train, y_test = train_test_split(data, y, test_size=test_fraction, random_state=seed, stratify=y)\n",
    "    X_train, X_val, y_train, y_val = train_test_split(X_train, y_train, test_size=val_fraction, random_state=seed, stratify=y_train)\n",
    "    dtest = xg.DMatrix(X_test, label=y_test)\n",
    "else:\n",
    "    X_train, X_val, y_train, y_val = train_test_split(data, y, test_size=val_fraction, random_state=seed, stratify=y)"
   ]
  },
  {
   "cell_type": "code",
   "execution_count": 7,
   "metadata": {},
   "outputs": [
    {
     "name": "stdout",
     "output_type": "stream",
     "text": [
      "[0]\teval-error:0.046532\teval-auc:0.969521\ttrain-error:0.022135\ttrain-auc:0.982331\n",
      "[1]\teval-error:0.044402\teval-auc:0.9768\ttrain-error:0.017425\ttrain-auc:0.989938\n",
      "[2]\teval-error:0.041539\teval-auc:0.979751\ttrain-error:0.014562\ttrain-auc:0.992642\n",
      "[3]\teval-error:0.040607\teval-auc:0.980881\ttrain-error:0.012499\ttrain-auc:0.994321\n",
      "[4]\teval-error:0.039609\teval-auc:0.981809\ttrain-error:0.010635\ttrain-auc:0.995483\n",
      "[5]\teval-error:0.038743\teval-auc:0.982882\ttrain-error:0.00932\ttrain-auc:0.995953\n",
      "[6]\teval-error:0.037878\teval-auc:0.983355\ttrain-error:0.008222\ttrain-auc:0.996779\n",
      "[7]\teval-error:0.037478\teval-auc:0.983466\ttrain-error:0.007223\ttrain-auc:0.997676\n",
      "[8]\teval-error:0.036813\teval-auc:0.98494\ttrain-error:0.006158\ttrain-auc:0.998514\n",
      "[9]\teval-error:0.037279\teval-auc:0.985321\ttrain-error:0.005242\ttrain-auc:0.998947\n",
      "[10]\teval-error:0.037279\teval-auc:0.98551\ttrain-error:0.00451\ttrain-auc:0.999145\n",
      "[11]\teval-error:0.03668\teval-auc:0.985785\ttrain-error:0.004144\ttrain-auc:0.999377\n",
      "[12]\teval-error:0.03628\teval-auc:0.986138\ttrain-error:0.003628\ttrain-auc:0.999509\n",
      "[13]\teval-error:0.03628\teval-auc:0.986205\ttrain-error:0.003129\ttrain-auc:0.999617\n",
      "[14]\teval-error:0.036347\teval-auc:0.986309\ttrain-error:0.00263\ttrain-auc:0.999766\n",
      "[15]\teval-error:0.035215\teval-auc:0.986424\ttrain-error:0.002297\ttrain-auc:0.999842\n",
      "[16]\teval-error:0.035481\teval-auc:0.986637\ttrain-error:0.002014\ttrain-auc:0.999883\n",
      "[17]\teval-error:0.034749\teval-auc:0.986694\ttrain-error:0.001648\ttrain-auc:0.999918\n",
      "[18]\teval-error:0.035015\teval-auc:0.986934\ttrain-error:0.001431\ttrain-auc:0.999941\n",
      "[19]\teval-error:0.035015\teval-auc:0.987175\ttrain-error:0.001281\ttrain-auc:0.999958\n",
      "[20]\teval-error:0.034816\teval-auc:0.98744\ttrain-error:0.001065\ttrain-auc:0.999973\n",
      "[21]\teval-error:0.034549\teval-auc:0.987609\ttrain-error:0.000915\ttrain-auc:0.99998\n",
      "[22]\teval-error:0.03435\teval-auc:0.98773\ttrain-error:0.000732\ttrain-auc:0.999986\n",
      "[23]\teval-error:0.034216\teval-auc:0.987861\ttrain-error:0.000599\ttrain-auc:0.999992\n",
      "[24]\teval-error:0.033817\teval-auc:0.987942\ttrain-error:0.000433\ttrain-auc:0.999995\n",
      "[25]\teval-error:0.033684\teval-auc:0.988244\ttrain-error:0.000316\ttrain-auc:0.999997\n",
      "[26]\teval-error:0.033684\teval-auc:0.988373\ttrain-error:0.000216\ttrain-auc:0.999998\n",
      "[27]\teval-error:0.033151\teval-auc:0.988518\ttrain-error:0.0002\ttrain-auc:0.999999\n",
      "[28]\teval-error:0.033285\teval-auc:0.98859\ttrain-error:0.0002\ttrain-auc:1\n",
      "[29]\teval-error:0.033018\teval-auc:0.988676\ttrain-error:0.000183\ttrain-auc:1\n"
     ]
    }
   ],
   "source": [
    "dtrain = xg.DMatrix(X_train, label=y_train)\n",
    "dval = xg.DMatrix(X_val, label=y_val)\n",
    "evallist = [(dval, 'eval'), (dtrain, 'train')]\n",
    "model = xg.train(params=params, dtrain=dtrain, num_boost_round=30, evals=evallist)"
   ]
  },
  {
   "cell_type": "code",
   "execution_count": 8,
   "metadata": {},
   "outputs": [],
   "source": [
    "y_pred_prob = model.predict(dtest)\n",
    "y_pred = (y_pred_prob > 0.5).astype(int)"
   ]
  },
  {
   "cell_type": "code",
   "execution_count": 9,
   "metadata": {},
   "outputs": [],
   "source": [
    "r = metrics.classification_report(y_true=y_test, y_pred=y_pred)\n",
    "acc = metrics.accuracy_score(y_true=y_test, y_pred=y_pred)"
   ]
  },
  {
   "cell_type": "code",
   "execution_count": 12,
   "metadata": {},
   "outputs": [
    {
     "name": "stdout",
     "output_type": "stream",
     "text": [
      "             precision    recall  f1-score   support\n",
      "\n",
      "          0       0.98      0.98      0.98     15765\n",
      "          1       0.91      0.89      0.90      3013\n",
      "\n",
      "avg / total       0.97      0.97      0.97     18778\n",
      "\n"
     ]
    }
   ],
   "source": [
    "print(r)"
   ]
  },
  {
   "cell_type": "code",
   "execution_count": null,
   "metadata": {},
   "outputs": [],
   "source": []
  }
 ],
 "metadata": {
  "kernelspec": {
   "display_name": "Python 3",
   "language": "python",
   "name": "python3"
  },
  "language_info": {
   "codemirror_mode": {
    "name": "ipython",
    "version": 3
   },
   "file_extension": ".py",
   "mimetype": "text/x-python",
   "name": "python",
   "nbconvert_exporter": "python",
   "pygments_lexer": "ipython3",
   "version": "3.5.2"
  }
 },
 "nbformat": 4,
 "nbformat_minor": 2
}
