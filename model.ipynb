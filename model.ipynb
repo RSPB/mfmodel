{
 "cells": [
  {
   "cell_type": "code",
   "execution_count": 1,
   "metadata": {},
   "outputs": [],
   "source": [
    "import sklearn\n",
    "import numpy as np\n",
    "import pandas as pd\n",
    "import xgboost as xg\n",
    "import seaborn as sns\n",
    "import matplotlib.pyplot as plt\n",
    "\n",
    "from sklearn import metrics\n",
    "from sklearn.model_selection import train_test_split\n",
    "\n",
    "%matplotlib inline  "
   ]
  },
  {
   "cell_type": "code",
   "execution_count": 2,
   "metadata": {},
   "outputs": [],
   "source": [
    "equal_no_samples_in_each_class = False\n",
    "datapath = '/home/tracek/Data/gender/gender_warbler.csv'\n",
    "seed = 42\n",
    "\n",
    "params = {'max_depth': 10,\n",
    "          'n_estimators': 1000,\n",
    "          'objective': 'binary:logistic',\n",
    "          'eval_metric': ['auc', 'error'],\n",
    "          'gamma': 0.1}\n",
    "\n",
    "test_fraction = 0.1\n",
    "val_fraction = 0.2"
   ]
  },
  {
   "cell_type": "code",
   "execution_count": 3,
   "metadata": {},
   "outputs": [],
   "source": [
    "data = pd.read_csv(datapath).drop(['centroid', 'dfrange', 'filename'], axis=1) # centroid corresponds to meanfreq\n",
    "male_df_len = len(data[data['label'] == 0])\n",
    "female_df_len = len(data[data['label'] == 1])"
   ]
  },
  {
   "cell_type": "code",
   "execution_count": 4,
   "metadata": {},
   "outputs": [],
   "source": [
    "if equal_no_samples_in_each_class:\n",
    "    fraction_to_drop = 1 - female_df_len / male_df_len\n",
    "    data = data.drop(data[data['label'] == 0].sample(frac=fraction_to_drop, random_state=seed).index)"
   ]
  },
  {
   "cell_type": "code",
   "execution_count": 5,
   "metadata": {},
   "outputs": [],
   "source": [
    "y = data.pop('label')"
   ]
  },
  {
   "cell_type": "code",
   "execution_count": 6,
   "metadata": {},
   "outputs": [],
   "source": [
    "if test_fraction > 0.0:\n",
    "    X_train, X_test, y_train, y_test = train_test_split(data, y, test_size=test_fraction, random_state=seed, stratify=y)\n",
    "    X_train, X_val, y_train, y_val = train_test_split(X_train, y_train, test_size=val_fraction, random_state=seed, stratify=y_train)\n",
    "    dtest = xg.DMatrix(X_test, label=y_test)\n",
    "else:\n",
    "    X_train, X_val, y_train, y_val = train_test_split(data, y, test_size=val_fraction, random_state=seed, stratify=y)"
   ]
  },
  {
   "cell_type": "code",
   "execution_count": 7,
   "metadata": {},
   "outputs": [
    {
     "name": "stdout",
     "output_type": "stream",
     "text": [
      "[0]\teval-auc:0.972751\teval-error:0.044438\ttrain-auc:0.98118\ttrain-error:0.028359\n",
      "Multiple eval metrics have been passed: 'train-error' will be used for early stopping.\n",
      "\n",
      "Will train until train-error hasn't improved in 5 rounds.\n",
      "[1]\teval-auc:0.976568\teval-error:0.039763\ttrain-auc:0.984504\ttrain-error:0.024572\n",
      "[2]\teval-auc:0.982219\teval-error:0.038047\ttrain-auc:0.98981\ttrain-error:0.022412\n",
      "[3]\teval-auc:0.98285\teval-error:0.037278\ttrain-auc:0.990629\ttrain-error:0.020149\n",
      "[4]\teval-auc:0.983913\teval-error:0.03716\ttrain-auc:0.992431\ttrain-error:0.018093\n",
      "[5]\teval-auc:0.984577\teval-error:0.036272\ttrain-auc:0.993067\ttrain-error:0.016317\n",
      "[6]\teval-auc:0.98571\teval-error:0.035917\ttrain-auc:0.994938\ttrain-error:0.014956\n",
      "[7]\teval-auc:0.986222\teval-error:0.035621\ttrain-auc:0.995697\ttrain-error:0.013359\n",
      "[8]\teval-auc:0.986911\teval-error:0.035266\ttrain-auc:0.996259\ttrain-error:0.012486\n",
      "[9]\teval-auc:0.987352\teval-error:0.035503\ttrain-auc:0.996926\ttrain-error:0.011524\n",
      "[10]\teval-auc:0.987463\teval-error:0.03568\ttrain-auc:0.997353\ttrain-error:0.010607\n",
      "[11]\teval-auc:0.987784\teval-error:0.034793\ttrain-auc:0.998219\ttrain-error:0.009764\n",
      "[12]\teval-auc:0.987763\teval-error:0.034556\ttrain-auc:0.998477\ttrain-error:0.008758\n",
      "[13]\teval-auc:0.987839\teval-error:0.034201\ttrain-auc:0.998716\ttrain-error:0.007989\n",
      "[14]\teval-auc:0.987974\teval-error:0.033669\ttrain-auc:0.999088\ttrain-error:0.007382\n",
      "[15]\teval-auc:0.988253\teval-error:0.033077\ttrain-auc:0.999225\ttrain-error:0.006539\n",
      "[16]\teval-auc:0.988773\teval-error:0.033491\ttrain-auc:0.999341\ttrain-error:0.006065\n",
      "[17]\teval-auc:0.988826\teval-error:0.033254\ttrain-auc:0.999467\ttrain-error:0.00574\n",
      "[18]\teval-auc:0.989065\teval-error:0.033136\ttrain-auc:0.999571\ttrain-error:0.0054\n",
      "[19]\teval-auc:0.989171\teval-error:0.032899\ttrain-auc:0.999652\ttrain-error:0.005133\n",
      "[20]\teval-auc:0.989282\teval-error:0.032722\ttrain-auc:0.999698\ttrain-error:0.004675\n",
      "[21]\teval-auc:0.989301\teval-error:0.032485\ttrain-auc:0.999737\ttrain-error:0.004408\n",
      "[22]\teval-auc:0.989523\teval-error:0.032604\ttrain-auc:0.999776\ttrain-error:0.004246\n",
      "[23]\teval-auc:0.989816\teval-error:0.032604\ttrain-auc:0.999814\ttrain-error:0.003846\n",
      "[24]\teval-auc:0.989869\teval-error:0.031953\ttrain-auc:0.999852\ttrain-error:0.003329\n",
      "[25]\teval-auc:0.989888\teval-error:0.031657\ttrain-auc:0.999881\ttrain-error:0.003062\n",
      "[26]\teval-auc:0.990031\teval-error:0.031302\ttrain-auc:0.999895\ttrain-error:0.002826\n",
      "[27]\teval-auc:0.990131\teval-error:0.031124\ttrain-auc:0.999921\ttrain-error:0.002441\n",
      "[28]\teval-auc:0.99034\teval-error:0.031361\ttrain-auc:0.999932\ttrain-error:0.002263\n",
      "[29]\teval-auc:0.990466\teval-error:0.031065\ttrain-auc:0.999939\ttrain-error:0.002115\n",
      "[30]\teval-auc:0.990466\teval-error:0.031006\ttrain-auc:0.99995\ttrain-error:0.001894\n",
      "[31]\teval-auc:0.990518\teval-error:0.030828\ttrain-auc:0.999958\ttrain-error:0.001716\n",
      "[32]\teval-auc:0.990635\teval-error:0.03071\ttrain-auc:0.999967\ttrain-error:0.001435\n",
      "[33]\teval-auc:0.990719\teval-error:0.030592\ttrain-auc:0.999971\ttrain-error:0.001302\n",
      "[34]\teval-auc:0.990805\teval-error:0.030651\ttrain-auc:0.999972\ttrain-error:0.001272\n",
      "[35]\teval-auc:0.990802\teval-error:0.030592\ttrain-auc:0.999974\ttrain-error:0.001257\n",
      "[36]\teval-auc:0.990791\teval-error:0.030651\ttrain-auc:0.99998\ttrain-error:0.001021\n",
      "[37]\teval-auc:0.990829\teval-error:0.030651\ttrain-auc:0.999981\ttrain-error:0.000976\n",
      "[38]\teval-auc:0.990854\teval-error:0.030533\ttrain-auc:0.999987\ttrain-error:0.000858\n",
      "[39]\teval-auc:0.990971\teval-error:0.030473\ttrain-auc:0.999989\ttrain-error:0.00074\n",
      "[40]\teval-auc:0.990981\teval-error:0.030355\ttrain-auc:0.999989\ttrain-error:0.000725\n",
      "[41]\teval-auc:0.991031\teval-error:0.030414\ttrain-auc:0.999991\ttrain-error:0.000621\n",
      "[42]\teval-auc:0.991085\teval-error:0.030355\ttrain-auc:0.999991\ttrain-error:0.000607\n",
      "[43]\teval-auc:0.991167\teval-error:0.030296\ttrain-auc:0.999994\ttrain-error:0.000518\n",
      "[44]\teval-auc:0.991173\teval-error:0.030651\ttrain-auc:0.999994\ttrain-error:0.000473\n",
      "[45]\teval-auc:0.991218\teval-error:0.030473\ttrain-auc:0.999995\ttrain-error:0.000429\n",
      "[46]\teval-auc:0.991251\teval-error:0.030355\ttrain-auc:0.999996\ttrain-error:0.000414\n",
      "[47]\teval-auc:0.991265\teval-error:0.030414\ttrain-auc:0.999997\ttrain-error:0.00034\n",
      "[48]\teval-auc:0.991285\teval-error:0.030237\ttrain-auc:0.999998\ttrain-error:0.00034\n",
      "[49]\teval-auc:0.991304\teval-error:0.030237\ttrain-auc:0.999999\ttrain-error:0.000311\n",
      "[50]\teval-auc:0.991352\teval-error:0.03\ttrain-auc:0.999999\ttrain-error:0.000251\n",
      "[51]\teval-auc:0.991384\teval-error:0.03\ttrain-auc:0.999999\ttrain-error:0.000222\n",
      "[52]\teval-auc:0.991357\teval-error:0.029882\ttrain-auc:1\ttrain-error:0.000207\n",
      "[53]\teval-auc:0.991414\teval-error:0.029941\ttrain-auc:1\ttrain-error:0.000192\n",
      "[54]\teval-auc:0.991483\teval-error:0.030178\ttrain-auc:1\ttrain-error:0.000163\n",
      "[55]\teval-auc:0.9915\teval-error:0.029645\ttrain-auc:1\ttrain-error:0.000148\n",
      "[56]\teval-auc:0.991511\teval-error:0.029704\ttrain-auc:1\ttrain-error:0.000133\n",
      "[57]\teval-auc:0.991575\teval-error:0.029882\ttrain-auc:1\ttrain-error:0.000133\n",
      "[58]\teval-auc:0.991654\teval-error:0.02929\ttrain-auc:1\ttrain-error:0.000133\n",
      "[59]\teval-auc:0.991655\teval-error:0.029527\ttrain-auc:1\ttrain-error:0.000133\n",
      "[60]\teval-auc:0.991677\teval-error:0.029467\ttrain-auc:1\ttrain-error:0.000118\n",
      "[61]\teval-auc:0.991708\teval-error:0.029408\ttrain-auc:1\ttrain-error:7.4e-05\n",
      "[62]\teval-auc:0.991751\teval-error:0.029527\ttrain-auc:1\ttrain-error:5.9e-05\n",
      "[63]\teval-auc:0.991748\teval-error:0.029172\ttrain-auc:1\ttrain-error:5.9e-05\n",
      "[64]\teval-auc:0.991798\teval-error:0.029349\ttrain-auc:1\ttrain-error:3e-05\n",
      "[65]\teval-auc:0.991824\teval-error:0.029349\ttrain-auc:1\ttrain-error:3e-05\n",
      "[66]\teval-auc:0.991806\teval-error:0.029467\ttrain-auc:1\ttrain-error:3e-05\n",
      "[67]\teval-auc:0.991759\teval-error:0.029763\ttrain-auc:1\ttrain-error:1.5e-05\n",
      "[68]\teval-auc:0.991803\teval-error:0.029704\ttrain-auc:1\ttrain-error:1.5e-05\n",
      "[69]\teval-auc:0.991828\teval-error:0.029645\ttrain-auc:1\ttrain-error:1.5e-05\n",
      "[70]\teval-auc:0.991841\teval-error:0.029349\ttrain-auc:1\ttrain-error:1.5e-05\n",
      "[71]\teval-auc:0.991859\teval-error:0.029527\ttrain-auc:1\ttrain-error:1.5e-05\n",
      "[72]\teval-auc:0.991829\teval-error:0.029349\ttrain-auc:1\ttrain-error:1.5e-05\n",
      "Stopping. Best iteration:\n",
      "[67]\teval-auc:0.991759\teval-error:0.029763\ttrain-auc:1\ttrain-error:1.5e-05\n",
      "\n"
     ]
    }
   ],
   "source": [
    "dtrain = xg.DMatrix(X_train, label=y_train)\n",
    "dval = xg.DMatrix(X_val, label=y_val)\n",
    "evallist = [(dval, 'eval'), (dtrain, 'train')]\n",
    "model = xg.train(params=params, dtrain=dtrain, num_boost_round=100, evals=evallist, early_stopping_rounds=5)"
   ]
  },
  {
   "cell_type": "code",
   "execution_count": 8,
   "metadata": {},
   "outputs": [],
   "source": [
    "y_pred_prob = model.predict(dtest)\n",
    "y_pred = (y_pred_prob > 0.5).astype(int)"
   ]
  },
  {
   "cell_type": "code",
   "execution_count": 9,
   "metadata": {},
   "outputs": [],
   "source": [
    "r = metrics.classification_report(y_true=y_test, y_pred=y_pred)\n",
    "acc = metrics.accuracy_score(y_true=y_test, y_pred=y_pred)"
   ]
  },
  {
   "cell_type": "code",
   "execution_count": 13,
   "metadata": {},
   "outputs": [
    {
     "name": "stdout",
     "output_type": "stream",
     "text": [
      "             precision    recall  f1-score   support\n",
      "\n",
      "          0       0.98      0.98      0.98      7882\n",
      "          1       0.92      0.89      0.90      1507\n",
      "\n",
      "avg / total       0.97      0.97      0.97      9389\n",
      "\n"
     ]
    }
   ],
   "source": [
    "print(r)"
   ]
  },
  {
   "cell_type": "code",
   "execution_count": 14,
   "metadata": {},
   "outputs": [
    {
     "name": "stdout",
     "output_type": "stream",
     "text": [
      "Accuracy:  0.96943231441\n"
     ]
    }
   ],
   "source": [
    "print('Accuracy: ', acc)"
   ]
  },
  {
   "cell_type": "code",
   "execution_count": 19,
   "metadata": {
    "scrolled": false
   },
   "outputs": [
    {
     "data": {
      "text/plain": [
       "<matplotlib.axes._subplots.AxesSubplot at 0x7f8cf6395d68>"
      ]
     },
     "execution_count": 19,
     "metadata": {},
     "output_type": "execute_result"
    },
    {
     "data": {
      "image/png": "[encoded data removed]",
      "text/plain": [
       "<matplotlib.figure.Figure at 0x7f8cf62210b8>"
      ]
     },
     "metadata": {},
     "output_type": "display_data"
    }
   ],
   "source": [
    "model.feature_names = [name.replace(' ', '') for name in model.feature_names]\n",
    "fig, ax = plt.subplots(figsize=(15, 15))\n",
    "xg.plot_importance(model, ax)"
   ]
  },
  {
   "cell_type": "code",
   "execution_count": null,
   "metadata": {},
   "outputs": [],
   "source": []
  },
  {
   "cell_type": "code",
   "execution_count": null,
   "metadata": {},
   "outputs": [],
   "source": [
    "# xg.plot_tree(model, num_trees=0, rankdir='LR')\n",
    "# fig = plt.gcf()\n",
    "# fig.set_size_inches(150, 100)\n",
    "# fig.savefig('tree.png')"
   ]
  },
  {
   "cell_type": "code",
   "execution_count": null,
   "metadata": {},
   "outputs": [],
   "source": [
    "import matplotlib"
   ]
  },
  {
   "cell_type": "code",
   "execution_count": null,
   "metadata": {},
   "outputs": [],
   "source": []
  }
 ],
 "metadata": {
  "kernelspec": {
   "display_name": "Python 3",
   "language": "python",
   "name": "python3"
  },
  "language_info": {
   "codemirror_mode": {
    "name": "ipython",
    "version": 3
   },
   "file_extension": ".py",
   "mimetype": "text/x-python",
   "name": "python",
   "nbconvert_exporter": "python",
   "pygments_lexer": "ipython3",
   "version": "3.5.2"
  }
 },
 "nbformat": 4,
 "nbformat_minor": 2
}
