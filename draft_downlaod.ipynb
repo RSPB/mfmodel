{
 "cells": [
  {
   "cell_type": "code",
   "execution_count": 38,
   "metadata": {},
   "outputs": [],
   "source": [
    "import os\n",
    "import urllib\n",
    "import tarfile\n",
    "import re\n",
    "from bs4 import BeautifulSoup\n",
    "from multiprocessing import Pool\n",
    "from functools import partial"
   ]
  },
  {
   "cell_type": "code",
   "execution_count": 44,
   "metadata": {},
   "outputs": [],
   "source": [
    "def download_and_extract(target, url):\n",
    "    print('url', url)\n",
    "    print('target', target)\n",
    "    fileobj = urllib.request.urlopen(url)\n",
    "    archive = tarfile.open(fileobj=fileobj, mode=\"r|gz\")\n",
    "    archive.extractall(target)"
   ]
  },
  {
   "cell_type": "code",
   "execution_count": 2,
   "metadata": {},
   "outputs": [],
   "source": [
    "voxforge_url = 'http://www.repository.voxforge1.org/downloads/SpeechCorpus/Trunk/Audio/Main/16kHz_16bit'\n",
    "target_folder = './Voxforge'\n",
    "\n",
    "if not os.path.isdir(target_folder):\n",
    "    os.makedirs(target_folder)"
   ]
  },
  {
   "cell_type": "code",
   "execution_count": 3,
   "metadata": {},
   "outputs": [],
   "source": [
    "html_page = urllib.request.urlopen(voxforge_url)"
   ]
  },
  {
   "cell_type": "code",
   "execution_count": 4,
   "metadata": {},
   "outputs": [],
   "source": [
    "soup = BeautifulSoup(html_page, \"html5lib\")"
   ]
  },
  {
   "cell_type": "code",
   "execution_count": 49,
   "metadata": {},
   "outputs": [],
   "source": [
    "tags = soup.find_all('a', href=re.compile(r'.*tgz'), text=True)\n",
    "links = [voxforge_url + '/' + tag.text for tag in tags]"
   ]
  },
  {
   "cell_type": "code",
   "execution_count": 51,
   "metadata": {},
   "outputs": [],
   "source": [
    "ll = links[:5]"
   ]
  },
  {
   "cell_type": "code",
   "execution_count": 45,
   "metadata": {},
   "outputs": [],
   "source": [
    "download_wrapper = partial(download_and_extract, target_folder)"
   ]
  },
  {
   "cell_type": "code",
   "execution_count": 50,
   "metadata": {},
   "outputs": [
    {
     "name": "stdout",
     "output_type": "stream",
     "text": [
      "url http://www.repository.voxforge1.org/downloads/SpeechCorpus/Trunk/Audio/Main/16kHz_16bit/1028-20100710-hne.tgz\n",
      "target ./Voxforge\n"
     ]
    }
   ],
   "source": [
    "download_and_extract(target_folder, links[0])"
   ]
  },
  {
   "cell_type": "code",
   "execution_count": 52,
   "metadata": {
    "scrolled": true
   },
   "outputs": [
    {
     "name": "stdout",
     "output_type": "stream",
     "text": [
      "url http://www.repository.voxforge1.org/downloads/SpeechCorpus/Trunk/Audio/Main/16kHz_16bit/1028-20100710-hne.tgz\n",
      "url http://www.repository.voxforge1.org/downloads/SpeechCorpus/Trunk/Audio/Main/16kHz_16bit/1337ad-20170321-tkg.tgz\n",
      "url http://www.repository.voxforge1.org/downloads/SpeechCorpus/Trunk/Audio/Main/16kHz_16bit/1337ad-20170321-ajg.tgz\n",
      "target ./Voxforge\n",
      "target ./Voxforge\n",
      "target ./Voxforge\n",
      "url http://www.repository.voxforge1.org/downloads/SpeechCorpus/Trunk/Audio/Main/16kHz_16bit/1337ad-20170321-ynk.tgz\n",
      "target ./Voxforge\n",
      "url http://www.repository.voxforge1.org/downloads/SpeechCorpus/Trunk/Audio/Main/16kHz_16bit/1snoke-20120412-hge.tgz\n",
      "target ./Voxforge\n"
     ]
    }
   ],
   "source": [
    "result = Pool(4).map(download_wrapper, ll)"
   ]
  },
  {
   "cell_type": "code",
   "execution_count": 75,
   "metadata": {},
   "outputs": [],
   "source": [
    "fileobj = urllib.request.urlopen(links[5])"
   ]
  },
  {
   "cell_type": "code",
   "execution_count": 76,
   "metadata": {},
   "outputs": [],
   "source": [
    "archive = tarfile.open(fileobj=fileobj, mode=\"r|gz\")"
   ]
  },
  {
   "cell_type": "code",
   "execution_count": null,
   "metadata": {},
   "outputs": [],
   "source": []
  },
  {
   "cell_type": "code",
   "execution_count": 61,
   "metadata": {},
   "outputs": [
    {
     "data": {
      "text/plain": [
       "[<TarInfo '23yipikaye-20100807-ujm/LICENSE' at 0x7f077ed82430>,\n",
       " <TarInfo '23yipikaye-20100807-ujm/etc' at 0x7f077ed822a0>,\n",
       " <TarInfo '23yipikaye-20100807-ujm/etc/GPL_license.txt' at 0x7f077ed825c0>,\n",
       " <TarInfo '23yipikaye-20100807-ujm/etc/README' at 0x7f077ed824f8>,\n",
       " <TarInfo '23yipikaye-20100807-ujm/etc/PROMPTS' at 0x7f077ed82688>,\n",
       " <TarInfo '23yipikaye-20100807-ujm/etc/HDMan_log' at 0x7f077ed82750>,\n",
       " <TarInfo '23yipikaye-20100807-ujm/etc/prompts-original' at 0x7f077ed82818>,\n",
       " <TarInfo '23yipikaye-20100807-ujm/etc/HVite_log' at 0x7f077ed828e0>,\n",
       " <TarInfo '23yipikaye-20100807-ujm/etc/audiofile_details' at 0x7f077ed829a8>,\n",
       " <TarInfo '23yipikaye-20100807-ujm/wav' at 0x7f077ed82a70>,\n",
       " <TarInfo '23yipikaye-20100807-ujm/wav/b0317.wav' at 0x7f077ed82c00>,\n",
       " <TarInfo '23yipikaye-20100807-ujm/wav/b0312.wav' at 0x7f077ed82b38>,\n",
       " <TarInfo '23yipikaye-20100807-ujm/wav/b0319.wav' at 0x7f077ed82cc8>,\n",
       " <TarInfo '23yipikaye-20100807-ujm/wav/b0320.wav' at 0x7f077ed82d90>,\n",
       " <TarInfo '23yipikaye-20100807-ujm/wav/b0321.wav' at 0x7f077ed82e58>,\n",
       " <TarInfo '23yipikaye-20100807-ujm/wav/b0314.wav' at 0x7f077ed82f20>,\n",
       " <TarInfo '23yipikaye-20100807-ujm/wav/b0316.wav' at 0x7f077c451048>,\n",
       " <TarInfo '23yipikaye-20100807-ujm/wav/b0313.wav' at 0x7f077c451110>,\n",
       " <TarInfo '23yipikaye-20100807-ujm/wav/b0315.wav' at 0x7f077c4511d8>,\n",
       " <TarInfo '23yipikaye-20100807-ujm/wav/b0318.wav' at 0x7f077c4512a0>]"
      ]
     },
     "execution_count": 61,
     "metadata": {},
     "output_type": "execute_result"
    }
   ],
   "source": [
    "for mem in archive.getmembers():\n",
    "    if 'wav' in mem"
   ]
  },
  {
   "cell_type": "code",
   "execution_count": 66,
   "metadata": {},
   "outputs": [],
   "source": [
    "q = '23yipikaye-20100807-ujm/wav/b0317.wav'"
   ]
  },
  {
   "cell_type": "code",
   "execution_count": 81,
   "metadata": {},
   "outputs": [
    {
     "data": {
      "text/plain": [
       "<function tarfile.TarInfo.get_info>"
      ]
     },
     "execution_count": 81,
     "metadata": {},
     "output_type": "execute_result"
    }
   ],
   "source": [
    "archive.tarinfo.get_info"
   ]
  },
  {
   "cell_type": "code",
   "execution_count": 84,
   "metadata": {},
   "outputs": [
    {
     "data": {
      "text/plain": [
       "'23yipikaye-20100807-ujm'"
      ]
     },
     "execution_count": 84,
     "metadata": {},
     "output_type": "execute_result"
    }
   ],
   "source": [
    "os.path.splitext(os.path.basename(links[5]))[0]"
   ]
  },
  {
   "cell_type": "code",
   "execution_count": null,
   "metadata": {},
   "outputs": [],
   "source": []
  }
 ],
 "metadata": {
  "kernelspec": {
   "display_name": "Python 3",
   "language": "python",
   "name": "python3"
  },
  "language_info": {
   "codemirror_mode": {
    "name": "ipython",
    "version": 3
   },
   "file_extension": ".py",
   "mimetype": "text/x-python",
   "name": "python",
   "nbconvert_exporter": "python",
   "pygments_lexer": "ipython3",
   "version": "3.5.2"
  }
 },
 "nbformat": 4,
 "nbformat_minor": 2
}
