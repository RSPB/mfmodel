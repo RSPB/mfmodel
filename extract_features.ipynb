{
 "cells": [
  {
   "cell_type": "code",
   "execution_count": 1,
   "metadata": {},
   "outputs": [],
   "source": [
    "import logging\n",
    "import numpy as np\n",
    "import yaafelib\n",
    "import librosa\n",
    "from aubio import onset\n",
    "from appconfig import setup_logging\n",
    "from scipy.io import wavfile\n",
    "import matplotlib.pyplot as plt\n",
    "\n",
    "%matplotlib inline  \n",
    "\n",
    "featurespecs = \\\n",
    "    ['LSF: LSF blockSize={} stepSize={} LSFNbCoeffs=10 LSFDisplacement=1',\n",
    "     'MelSpectrum: MelSpectrum blockSize={} stepSize={}',\n",
    "     'SpectralCrestFactorPerBand: SpectralCrestFactorPerBand blockSize={} stepSize={}',\n",
    "     'SpectralDecrease: SpectralDecrease blockSize={} stepSize={}',\n",
    "     'SpectralFlatnessPerBand: SpectralFlatnessPerBand blockSize={} stepSize={}',\n",
    "     'SpectralFlux: SpectralFlux blockSize={} stepSize={}',\n",
    "     'SpectralSlope: SpectralSlope blockSize={} stepSize={}',\n",
    "     'SpectralRolloff: SpectralRolloff blockSize={} stepSize={}']"
   ]
  },
  {
   "cell_type": "code",
   "execution_count": 2,
   "metadata": {},
   "outputs": [],
   "source": [
    "def get_onsets(signal, sr, nfft, hop, onset_detector_type, onset_threshold=None):\n",
    "    onsets = []\n",
    "\n",
    "    onset_detector = onset('default', nfft, hop, sr)\n",
    "    if onset_threshold:\n",
    "        onset_detector.set_threshold(onset_threshold)\n",
    "\n",
    "    signal_windowed = np.array_split(signal, np.arange(hop, len(signal), hop))\n",
    "\n",
    "    for frame in signal_windowed[:-1]:\n",
    "        if onset_detector(frame):\n",
    "            onsets.append(onset_detector.get_last_s())\n",
    "    return onsets[1:]"
   ]
  },
  {
   "cell_type": "code",
   "execution_count": 3,
   "metadata": {},
   "outputs": [],
   "source": [
    "path = '/home/tracek/Data/gender/test/ablackball-20121113-vvk/wav/a0333.wav'\n",
    "path2 = '/home/tracek/Data/gender/Voxforge/ralfherzog-20070923-en8/flac/en8-013.flac'\n",
    "\n",
    "sr = 16000\n",
    "block_size = 1024\n",
    "feature_plan = yaafelib.FeaturePlan(sample_rate=sr, normalize=True)\n",
    "for featurespec in featurespecs:\n",
    "    feature = featurespec.format(block_size, block_size // 2)\n",
    "    assert feature_plan.addFeature(feature), 'Failed to load %s feature' % feature\n",
    "    logging.info('Feature %s loaded', feature)\n",
    "    \n",
    "engine = yaafelib.Engine()\n",
    "engine.load(feature_plan.getDataFlow())\n",
    "afp = yaafelib.AudioFileProcessor()"
   ]
  },
  {
   "cell_type": "code",
   "execution_count": 4,
   "metadata": {},
   "outputs": [],
   "source": [
    "y, sr = librosa.load(path, sr=sr)\n",
    "y = librosa.util.normalize(y)\n",
    "y = y.astype('float32')"
   ]
  },
  {
   "cell_type": "code",
   "execution_count": 5,
   "metadata": {
    "scrolled": true
   },
   "outputs": [
    {
     "data": {
      "text/plain": [
       "[0.9438750147819519,\n",
       " 1.0125625133514404,\n",
       " 1.1795624494552612,\n",
       " 1.309999942779541,\n",
       " 1.5658750534057617,\n",
       " 1.715999960899353]"
      ]
     },
     "execution_count": 5,
     "metadata": {},
     "output_type": "execute_result"
    }
   ],
   "source": [
    "get_onsets(y, sr, nfft=512, hop=256, onset_detector_type='hfc', onset_threshold=0.3)"
   ]
  },
  {
   "cell_type": "code",
   "execution_count": 6,
   "metadata": {},
   "outputs": [
    {
     "data": {
      "text/plain": [
       "array([ 1.06925011,  1.21224999,  1.40681243,  1.77150011])"
      ]
     },
     "execution_count": 6,
     "metadata": {},
     "output_type": "execute_result"
    }
   ],
   "source": [
    "bw = get_onsets(y[::-1], sr, nfft=512, hop=256, onset_detector_type='hfc', onset_threshold=0.3)\n",
    "(len(y) / sr  - np.array(bw)[::-1])"
   ]
  },
  {
   "cell_type": "code",
   "execution_count": null,
   "metadata": {},
   "outputs": [],
   "source": [
    "len(y) / sr"
   ]
  },
  {
   "cell_type": "code",
   "execution_count": null,
   "metadata": {},
   "outputs": [],
   "source": [
    "signal_windowed = np.array_split(y, np.arange(256, len(y), 256))"
   ]
  },
  {
   "cell_type": "code",
   "execution_count": null,
   "metadata": {},
   "outputs": [],
   "source": [
    "onset_samples_fw = librosa.onset.onset_detect(y=y, sr=sr, hop_length=256, units='samples')\n",
    "onset_samples_bw = librosa.onset.onset_detect(y=y[::-1], sr=sr, hop_length=256, units='samples')\n",
    "onset_samples_bw = (len(y) - onset_samples_bw)[::-1]\n",
    "print('Forward: ', librosa.core.samples_to_time(onset_samples_fw, sr))\n",
    "print('Backward: ', librosa.core.samples_to_time(onset_samples_bw, sr))"
   ]
  },
  {
   "cell_type": "code",
   "execution_count": null,
   "metadata": {},
   "outputs": [],
   "source": [
    "onset_frames_fw = librosa.onset.onset_detect(y=y, sr=sr, hop_length=256, units='samples')"
   ]
  },
  {
   "cell_type": "code",
   "execution_count": 7,
   "metadata": {},
   "outputs": [
    {
     "data": {
      "text/plain": [
       "3"
      ]
     },
     "execution_count": 7,
     "metadata": {},
     "output_type": "execute_result"
    }
   ],
   "source": [
    "max(0, 3)"
   ]
  },
  {
   "cell_type": "code",
   "execution_count": null,
   "metadata": {},
   "outputs": [],
   "source": []
  }
 ],
 "metadata": {
  "kernelspec": {
   "display_name": "Python 3",
   "language": "python",
   "name": "python3"
  },
  "language_info": {
   "codemirror_mode": {
    "name": "ipython",
    "version": 3
   },
   "file_extension": ".py",
   "mimetype": "text/x-python",
   "name": "python",
   "nbconvert_exporter": "python",
   "pygments_lexer": "ipython3",
   "version": "3.5.2"
  }
 },
 "nbformat": 4,
 "nbformat_minor": 2
}
