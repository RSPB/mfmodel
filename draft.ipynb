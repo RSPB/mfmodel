{
 "cells": [
  {
   "cell_type": "code",
   "execution_count": 1,
   "metadata": {},
   "outputs": [],
   "source": [
    "import os\n",
    "import re"
   ]
  },
  {
   "cell_type": "code",
   "execution_count": 20,
   "metadata": {},
   "outputs": [],
   "source": [
    "readme_path = '/home/tracek/Data/gender/Voxforge/douglaid-20080203/etc/README'"
   ]
  },
  {
   "cell_type": "code",
   "execution_count": 21,
   "metadata": {},
   "outputs": [],
   "source": [
    "f = open(readme_path, 'r')"
   ]
  },
  {
   "cell_type": "code",
   "execution_count": 22,
   "metadata": {},
   "outputs": [],
   "source": [
    "lines = f.read().splitlines()"
   ]
  },
  {
   "cell_type": "code",
   "execution_count": 12,
   "metadata": {},
   "outputs": [],
   "source": [
    "l2 = lines[2]\n",
    "l4 = lines[4]"
   ]
  },
  {
   "cell_type": "code",
   "execution_count": 14,
   "metadata": {},
   "outputs": [],
   "source": [
    "m2 = re.search(\"^Gender: (\\w+)\", l2)\n",
    "m4 = re.search(\"^Gender: (\\w+)\", l4)"
   ]
  },
  {
   "cell_type": "code",
   "execution_count": 17,
   "metadata": {},
   "outputs": [
    {
     "data": {
      "text/plain": [
       "'Male'"
      ]
     },
     "execution_count": 17,
     "metadata": {},
     "output_type": "execute_result"
    }
   ],
   "source": [
    "m4.group(1)"
   ]
  },
  {
   "cell_type": "code",
   "execution_count": 19,
   "metadata": {},
   "outputs": [
    {
     "data": {
      "text/plain": [
       "True"
      ]
     },
     "execution_count": 19,
     "metadata": {},
     "output_type": "execute_result"
    }
   ],
   "source": [
    "'jaiger-12032006-3' in os.listdir('/home/tracek/Data/gender/Voxforge/')"
   ]
  },
  {
   "cell_type": "code",
   "execution_count": 23,
   "metadata": {},
   "outputs": [
    {
     "data": {
      "text/plain": [
       "['Speaker Characteristics: ',\n",
       " '\\tGender: male; ',\n",
       " '\\tAge range: senior; ',\n",
       " '\\tPronunciation dialect: Australian English. ',\n",
       " 'Recording Information: ',\n",
       " '\\tMicrophone make: Logitech; ',\n",
       " '\\tMicrophone type: usb headset mic; ',\n",
       " '\\tAudio card make: NVidia; ',\n",
       " '\\tAudio card type: integrated (or should it be:) usb pod;',\n",
       " '\\tAudio Recording Software: Audacity rel 1.3.3-beta; ',\n",
       " '\\tO/S: Mandriva Linux 2008 with \"Multimedia\" kernel.',\n",
       " ' File Info: ',\n",
       " '\\tFile type: wav; ',\n",
       " '\\tSampling rate: 48kHz; ',\n",
       " '\\tSample rate format: 16bit; ',\n",
       " '\\tNumber of channels: 1; ',\n",
       " '\\tAudio Processing: n.']"
      ]
     },
     "execution_count": 23,
     "metadata": {},
     "output_type": "execute_result"
    }
   ],
   "source": [
    "lines"
   ]
  },
  {
   "cell_type": "code",
   "execution_count": null,
   "metadata": {},
   "outputs": [],
   "source": []
  }
 ],
 "metadata": {
  "kernelspec": {
   "display_name": "Python 3",
   "language": "python",
   "name": "python3"
  },
  "language_info": {
   "codemirror_mode": {
    "name": "ipython",
    "version": 3
   },
   "file_extension": ".py",
   "mimetype": "text/x-python",
   "name": "python",
   "nbconvert_exporter": "python",
   "pygments_lexer": "ipython3",
   "version": "3.5.2"
  }
 },
 "nbformat": 4,
 "nbformat_minor": 2
}
